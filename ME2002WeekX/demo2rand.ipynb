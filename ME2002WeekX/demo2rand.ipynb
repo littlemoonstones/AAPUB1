{
  "cells": [
    {
      "metadata": {},
      "cell_type": "markdown",
      "source": "## Folder -ME2002WeekX\n###   use '%ls \" to display the file names in current folder\n###  use  '%run APythonExam.py'   to exectute that .py code\n>> File: demo2reand   Date: 2019-Mar-15 for Week05 -List + Jupyter Notebook show "
    },
    {
      "metadata": {
        "trusted": true
      },
      "cell_type": "code",
      "source": "## https://notebooks.azure.com/azms-6492/projects/AAPUB1 ",
      "execution_count": null,
      "outputs": []
    },
    {
      "metadata": {
        "trusted": true
      },
      "cell_type": "code",
      "source": "%ls ",
      "execution_count": 34,
      "outputs": [
        {
          "output_type": "stream",
          "text": "BubbleSort.py            L24Ex1.py         rand_runoob.py\r\ndemo2rand.ipynb          L24Ex2.py         TowersOfHanoi.py\r\nDEMOweek04plot1.py       L24Ex3.py         易經_64卦(theFirst20items).txt\r\ndrawtree.py              mainFunc.py       易經_64卦(theFirst20items-UTF8).txt\r\nEightQueens.py           nestedConds.py\r\nex39-studydrills(TW).py  rand_pynative.py\r\n",
          "name": "stdout"
        }
      ]
    },
    {
      "metadata": {
        "trusted": true
      },
      "cell_type": "code",
      "source": "%ls -l *.py",
      "execution_count": 35,
      "outputs": [
        {
          "output_type": "stream",
          "text": "-rw-r--r-- 1 nbuser nbuser  702 Mar 14 17:51 BubbleSort.py\r\n-rw-r--r-- 1 nbuser nbuser  537 Mar 15 04:03 DEMOweek04plot1.py\r\n-rw-r--r-- 1 nbuser nbuser 2027 Mar 15 04:23 drawtree.py\r\n-rw-r--r-- 1 nbuser nbuser 1844 Mar 14 17:40 EightQueens.py\r\n-rw-r--r-- 1 nbuser nbuser 2297 Mar 15 04:23 ex39-studydrills(TW).py\r\n-rw-r--r-- 1 nbuser nbuser  181 Mar 14 17:40 L24Ex1.py\r\n-rw-r--r-- 1 nbuser nbuser  178 Mar 14 17:41 L24Ex2.py\r\n-rw-r--r-- 1 nbuser nbuser  245 Mar 14 17:41 L24Ex3.py\r\n-rw-r--r-- 1 nbuser nbuser  972 Mar 14 17:40 mainFunc.py\r\n-rw-r--r-- 1 nbuser nbuser  270 Mar 15 04:23 nestedConds.py\r\n-rw-r--r-- 1 nbuser nbuser 1694 Mar 15 04:55 rand_pynative.py\r\n-rw-r--r-- 1 nbuser nbuser  663 Mar 15 03:58 rand_runoob.py\r\n-rw-r--r-- 1 nbuser nbuser  642 Mar 14 17:40 TowersOfHanoi.py\r\n",
          "name": "stdout"
        }
      ]
    },
    {
      "metadata": {
        "trusted": true
      },
      "cell_type": "code",
      "source": "import random",
      "execution_count": 36,
      "outputs": []
    },
    {
      "metadata": {
        "trusted": true
      },
      "cell_type": "code",
      "source": "afloat =[10.01, 20.2002, 30.30003, -120.0001]\nprint(\"ORG Floating num. List \", afloat)\nprint(afloat) ",
      "execution_count": 37,
      "outputs": [
        {
          "output_type": "stream",
          "text": "ORG Floating num. List  [10.01, 20.2002, 30.30003, -120.0001]\n[10.01, 20.2002, 30.30003, -120.0001]\n",
          "name": "stdout"
        }
      ]
    },
    {
      "metadata": {
        "trusted": true
      },
      "cell_type": "code",
      "source": "random.shuffle(afloat)\nprint(\"Now, Shuffled as \", end=\" -- \" )\nprint(afloat)",
      "execution_count": 38,
      "outputs": [
        {
          "output_type": "stream",
          "text": "Now, Shuffled as  -- [20.2002, -120.0001, 30.30003, 10.01]\n",
          "name": "stdout"
        }
      ]
    },
    {
      "metadata": {
        "trusted": true
      },
      "cell_type": "code",
      "source": "%cat rand_pynative.py\n",
      "execution_count": 39,
      "outputs": [
        {
          "output_type": "stream",
          "text": "#!/usr/bin/python\r\n# -*- coding: UTF-8 -*-\r\n# URL：：http://www.runoob.com/python/func-number-random.html \r\nimport random\r\n'''\r\nprint( random.randint(1,10) )        # 产生 1 到 10 的一个整数型随机数  \r\nprint( random.random() )             # 产生 0 到 1 之间的随机浮点数\r\nprint( random.uniform(1.1,5.4) )     # 产生  1.1 到 5.4 之间的随机浮点数，区间可以不是整数\r\n#print( random.choice('tomorrow') )   # 从序列中随机选取一个元素\r\nprint( random.randrange(1,100,2) )   # 生成从1到100的间隔为2的随机整数\r\n'''\r\na=[1,3,5,6,7, 200,999]                # 将序列a中的元素顺序打乱\r\nprint(\"org= \", a) \r\nrandom.shuffle(a)\r\nprint(a)\r\n\r\nafloat =[10.01, 20.2002, 30.30003, -120.0001]\r\nprint(\"ORG Floating num. List \", afloat)\r\nprint(afloat) \r\nrandom.shuffle(afloat)\r\nprint(\"Now, Shuffled as \", end=\" -- \" )\r\nprint(afloat)\r\n\r\n'''\r\n# https://pynative.com/online-python-code-editor-to-execute-python-code/ \r\n'''\r\n# import random\r\nweight_set = {40, 50, 55, 65, 75,80}\r\nprint (\"使用Sample()方法從集合中選擇 4 個隨機項:: \",random.sample(weight_set, k=4))\r\n# \r\nmarks_dict = {\r\n  \"Kelly\": 55,\r\n  \"jhon\": 70,\r\n  \"Donald\": 60,\r\n  \"Lennin\" :50,\r\n  \"Yao1\" : \"初九:潛龍，勿用\",\r\n  \"Yao6\" : \"上九:亢龍有悔\", \r\n  \"用九\": \"見群龍無首，吉\"\r\n}\r\nprint (\"Test1:: 選擇1個隨機項目：：\",random.sample(marks_dict.items(), k=1))\r\nprint (\"Test2:: 選擇2個隨機項目：：\",random.sample(marks_dict.items(), k=2))\r\nprint (\"Test3:: 選擇3個隨機項目：：\",random.sample(marks_dict.items(), k=3))\r\n\r\n#\r\nimport numpy\r\nprint(\"4 x 4 array of ints between 10 and 20 inclusive：：\")\r\nnewArray = numpy.random.randint(10, 50, size=(4, 4))\r\nprint(newArray)",
          "name": "stdout"
        }
      ]
    },
    {
      "metadata": {
        "trusted": true
      },
      "cell_type": "code",
      "source": "",
      "execution_count": null,
      "outputs": []
    },
    {
      "metadata": {
        "trusted": true
      },
      "cell_type": "code",
      "source": "afloat =[10.01, 20.002, 330.003, 44.00004, 66.000000699991 -120.0001999]\nprint(\"ORG Floating num. List \", afloat)\nprint(afloat) \nrandom.shuffle(afloat)\nprint(\"Now, Shuffled as \", end=\" -- \" )",
      "execution_count": 40,
      "outputs": [
        {
          "output_type": "stream",
          "text": "ORG Floating num. List  [10.01, 20.002, 330.003, 44.00004, -54.00019920000899]\n[10.01, 20.002, 330.003, 44.00004, -54.00019920000899]\nNow, Shuffled as  -- ",
          "name": "stdout"
        }
      ]
    },
    {
      "metadata": {
        "trusted": true
      },
      "cell_type": "code",
      "source": "print(afloat)",
      "execution_count": 41,
      "outputs": [
        {
          "output_type": "stream",
          "text": "[44.00004, -54.00019920000899, 330.003, 20.002, 10.01]\n",
          "name": "stdout"
        }
      ]
    },
    {
      "metadata": {
        "trusted": true
      },
      "cell_type": "code",
      "source": "for iv in afloat:\n    print(\"FORMAT:: Print the {0}th item:: value={1:7.4f}\".format(afloat.index(iv), iv))",
      "execution_count": 42,
      "outputs": [
        {
          "output_type": "stream",
          "text": "FORMAT:: Print the 0th item:: value=44.0000\nFORMAT:: Print the 1th item:: value=-54.0002\nFORMAT:: Print the 2th item:: value=330.0030\nFORMAT:: Print the 3th item:: value=20.0020\nFORMAT:: Print the 4th item:: value=10.0100\n",
          "name": "stdout"
        }
      ]
    },
    {
      "metadata": {
        "trusted": true,
        "scrolled": true
      },
      "cell_type": "code",
      "source": "%run rand_pynative.py\n",
      "execution_count": 43,
      "outputs": [
        {
          "output_type": "stream",
          "text": "org=  [1, 3, 5, 6, 7, 200, 999]\n[200, 5, 6, 3, 7, 999, 1]\nORG Floating num. List  [10.01, 20.2002, 30.30003, -120.0001]\n[10.01, 20.2002, 30.30003, -120.0001]\nNow, Shuffled as  -- [-120.0001, 10.01, 30.30003, 20.2002]\n使用Sample()方法從集合中選擇 4 個隨機項::  [55, 40, 75, 65]\nTest1:: 選擇1個隨機項目：： [('jhon', 70)]\nTest2:: 選擇2個隨機項目：： [('用九', '見群龍無首，吉'), ('Kelly', 55)]\nTest3:: 選擇3個隨機項目：： [('Yao1', '初九:潛龍，勿用'), ('Yao6', '上九:亢龍有悔'), ('Donald', 60)]\n4 x 4 array of ints between 10 and 20 inclusive：：\n[[47 42 16 27]\n [27 44 47 12]\n [13 36 30 20]\n [12 46 31 26]]\n",
          "name": "stdout"
        }
      ]
    },
    {
      "metadata": {
        "trusted": true
      },
      "cell_type": "code",
      "source": "print (\"New Test1:: 選擇1個項目：：\",random.sample(marks_dict.items(), k=1))\nprint (\"New Test2:: 選擇2個項目：：\",random.sample(marks_dict.items(), k=2))\nprint (\"New Test3:: 選擇3個項目：：\",random.sample(marks_dict.items(), k=3))\n",
      "execution_count": 44,
      "outputs": [
        {
          "output_type": "stream",
          "text": "New Test1:: 選擇1個項目：： [('Lennin', 50)]\nNew Test2:: 選擇2個項目：： [('用九', '見群龍無首，吉'), ('Yao1', '初九:潛龍，勿用')]\nNew Test3:: 選擇3個項目：： [('用九', '見群龍無首，吉'), ('Donald', 60), ('Yao1', '初九:潛龍，勿用')]\n",
          "name": "stdout"
        }
      ]
    },
    {
      "metadata": {
        "trusted": true
      },
      "cell_type": "code",
      "source": "%run rand_pynative.py > w05demo2out.txt ",
      "execution_count": 45,
      "outputs": [
        {
          "output_type": "stream",
          "text": "org=  [1, 3, 5, 6, 7, 200, 999]\n[7, 1, 5, 3, 999, 200, 6]\nORG Floating num. List  [10.01, 20.2002, 30.30003, -120.0001]\n[10.01, 20.2002, 30.30003, -120.0001]\nNow, Shuffled as  -- [10.01, -120.0001, 30.30003, 20.2002]\n使用Sample()方法從集合中選擇 4 個隨機項::  [80, 55, 75, 65]\nTest1:: 選擇1個隨機項目：： [('Yao6', '上九:亢龍有悔')]\nTest2:: 選擇2個隨機項目：： [('Kelly', 55), ('用九', '見群龍無首，吉')]\nTest3:: 選擇3個隨機項目：： [('Lennin', 50), ('Yao6', '上九:亢龍有悔'), ('Kelly', 55)]\n4 x 4 array of ints between 10 and 20 inclusive：：\n[[27 27 43 48]\n [45 40 16 33]\n [11 26 42 10]\n [45 15 21 24]]\n",
          "name": "stdout"
        }
      ]
    },
    {
      "metadata": {
        "trusted": true
      },
      "cell_type": "code",
      "source": "%run DEMOweek04plot1.py\n",
      "execution_count": 46,
      "outputs": [
        {
          "output_type": "display_data",
          "data": {
            "image/png": "[encoded data removed]",
            "text/plain": "<matplotlib.figure.Figure at 0x7f65bef62b70>"
          },
          "metadata": {}
        }
      ]
    },
    {
      "metadata": {
        "trusted": true
      },
      "cell_type": "code",
      "source": "%run rand_runoob.py\n",
      "execution_count": 47,
      "outputs": [
        {
          "output_type": "stream",
          "text": "10\n0.032141810267437676\n5.040832089814533\nt\n63\n[7, 6, 3, 5, 1]\n",
          "name": "stdout"
        }
      ]
    },
    {
      "metadata": {
        "trusted": true
      },
      "cell_type": "code",
      "source": "%run rand_runoob.py > W05out1.txt ",
      "execution_count": 51,
      "outputs": [
        {
          "output_type": "stream",
          "text": "8\n0.7439015318468666\n3.4519035972270893\no\n55\n[6, 5, 7, 1, 3]\n",
          "name": "stdout"
        }
      ]
    },
    {
      "metadata": {
        "trusted": true
      },
      "cell_type": "code",
      "source": "%ls *.txt",
      "execution_count": 52,
      "outputs": [
        {
          "output_type": "stream",
          "text": "易經_64卦(theFirst20items).txt  易經_64卦(theFirst20items-UTF8).txt\r\n",
          "name": "stdout"
        }
      ]
    },
    {
      "metadata": {
        "trusted": true
      },
      "cell_type": "code",
      "source": "%cat L24Ex3.py",
      "execution_count": 54,
      "outputs": [
        {
          "output_type": "stream",
          "text": "user_input = int(input(\"Please enter a number: \"))\r\r\nwhile user_input != 0:\r\r\n\tif user_input % 2 == 0:\r\r\n\t\tprint(user_input, \"is even\")\r\r\n\telse:\r\r\n\t\tprint(user_input, \"is odd\")\r\r\n\tuser_input = int(input(\"Please enter a number: \"))\r\r\nprint(\"Thanks\")\r\r\n\r\r\n",
          "name": "stdout"
        }
      ]
    },
    {
      "metadata": {
        "trusted": true
      },
      "cell_type": "code",
      "source": "",
      "execution_count": null,
      "outputs": []
    },
    {
      "metadata": {
        "trusted": true
      },
      "cell_type": "code",
      "source": "%ls -l",
      "execution_count": null,
      "outputs": []
    },
    {
      "metadata": {
        "trusted": true
      },
      "cell_type": "code",
      "source": "%cat W05out1.txt ",
      "execution_count": 55,
      "outputs": [
        {
          "output_type": "stream",
          "text": "cat: W05out1.txt: No such file or directory\r\n",
          "name": "stdout"
        }
      ]
    },
    {
      "metadata": {
        "trusted": true
      },
      "cell_type": "code",
      "source": "%run BubbleSort.py",
      "execution_count": null,
      "outputs": []
    },
    {
      "metadata": {
        "trusted": true
      },
      "cell_type": "code",
      "source": "%cat BubbleSort.py\n",
      "execution_count": null,
      "outputs": []
    },
    {
      "metadata": {
        "trusted": true
      },
      "cell_type": "code",
      "source": "",
      "execution_count": null,
      "outputs": []
    }
  ],
  "metadata": {
    "kernelspec": {
      "name": "python3",
      "display_name": "Python 3",
      "language": "python"
    },
    "language_info": {
      "mimetype": "text/x-python",
      "nbconvert_exporter": "python",
      "name": "python",
      "pygments_lexer": "ipython3",
      "version": "3.5.4",
      "file_extension": ".py",
      "codemirror_mode": {
        "version": 3,
        "name": "ipython"
      }
    }
  },
  "nbformat": 4,
  "nbformat_minor": 1
}