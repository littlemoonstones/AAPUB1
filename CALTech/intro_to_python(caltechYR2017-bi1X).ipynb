{
  "cells": [
    {
      "metadata": {},
      "cell_type": "markdown",
      "source": "# Bi 1x 2017: Introduction to Python\n\n(c) 2017 Justin Bois. This work is licensed under a [Creative Commons Attribution License CC-BY 4.0](https://creativecommons.org/licenses/by/4.0/). All code contained herein is licensed under an [MIT license](https://opensource.org/licenses/MIT).\n\n*This tutorial was generated from a Jupyter notebook.  You can download the notebook [here](intro_to_python.ipynb).*"
    },
    {
      "metadata": {},
      "cell_type": "markdown",
      "source": "We have already installed [Anaconda](https://store.continuum.io/cshop/anaconda/) in the [previous tutorial](setting_up_python_enviornment.html).  Anaconda contains most of what we need to do scientific computing with Python.  At the most basic level, it has Python 3.6.  It contains other modules we will make heavy use of, the three most important ones being [NumPy](http://www.numpy.org/), [matplotlib](http://matplotlib.org/), and [IPython](http://ipython.org).  We will also make heavy use of and [scikit-image](http://scikit-image.org/) throughout the course.  Importantly, it also has Jupyter notebooks, which we will use to do all of our analysis in Bi 1x.\n\nIn this tutorial, we will first learn some of the basics of the Python programming language at the same time exploring the properties of NumPy's very useful (and as we'll see, ubiquitous) `ndarray` data structure, which we will refer to as a \"NumPy array.\"  Finally, we'll load some data and use matplotlib to generate plots."
    },
    {
      "metadata": {},
      "cell_type": "markdown",
      "source": "## Getting Started Programming\n\nWe will be working in Jupyter notebooks.  First, launch a Jupyter notebook by typing\n\n    jupyter notebook\n    \non the command line.  This will launch a Jupyter window in your web browser.  Then, create a new Jupyter notebook from the pulldown menu you will see to the upper right."
    },
    {
      "metadata": {},
      "cell_type": "markdown",
      "source": "### Hello, world.\n\nAs a new programmer, your first task is to greet the world with your new set of skills!  We'll start by printing \"`Hello, world.`\". In a code cell in your Jupyter notebook, type the following: "
    },
    {
      "metadata": {
        "trusted": true
      },
      "cell_type": "code",
      "source": "print('Hello, world.')",
      "execution_count": 1,
      "outputs": [
        {
          "name": "stdout",
          "output_type": "stream",
          "text": "Hello, world.\n"
        }
      ]
    },
    {
      "metadata": {},
      "cell_type": "markdown",
      "source": "Do you see \"`Hello, world.`\" printed to the screen right below your command? Python is taking your input and printing it out in the output of the cell in your Jupyter notebook.\n\nHere we see the syntax for function calls in Python.  Function arguments are enclosed in parentheses.  We also learned another important piece of Python syntax.  Strings are enclosed in single (or double) quotes.\n\nNow try the following:"
    },
    {
      "metadata": {
        "trusted": true
      },
      "cell_type": "code",
      "source": "# This prints hello world\nprint ('Hello, world.')",
      "execution_count": 2,
      "outputs": [
        {
          "name": "stdout",
          "output_type": "stream",
          "text": "Hello, world.\n"
        }
      ]
    },
    {
      "metadata": {},
      "cell_type": "markdown",
      "source": "Notice how even though you text above the `print` statement, only \"`Hello, world.`\" is printed.  The `#` starts a comment string, anything after the `#`, will not be read or interpreted by Python. This is how you add notes to your program about what certain lines do. Including comments in your code is essential so that other people can read your code and understand what you are trying to accomplish. "
    },
    {
      "metadata": {},
      "cell_type": "markdown",
      "source": "## Variable Assignment\n\nTo assign a variable in python, we use an `=`, just like you would expect from any math class.  Arithmetic operations are also as expected: `+`, `-`, `*`, `/`.  \n\nTry the following: "
    },
    {
      "metadata": {
        "trusted": true
      },
      "cell_type": "code",
      "source": "a = 3\n\nb = a**3\n\nc = (b + 2*a) / 2\n\nd = (b + 2*a) // 2\n\nprint('a is', a)\nprint('b is',  b)\nprint('c is', c)\nprint ('d is', d)\n",
      "execution_count": 3,
      "outputs": [
        {
          "name": "stdout",
          "output_type": "stream",
          "text": "a is 3\nb is 27\nc is 16.5\nd is 16\n"
        }
      ]
    },
    {
      "metadata": {},
      "cell_type": "markdown",
      "source": "In the assignment of the variable `b`, we used the `**` operator.  This means \"raise to the power of.\"  In the assignment of the variable `d`, we used the `//` operator.  This does integer division, returning the floor of the result of the division as an integer."
    },
    {
      "metadata": {},
      "cell_type": "markdown",
      "source": "### Lists, tuples, slicing, and indexing \n\nA list is a mutable array, meaning it can be edited.  Let's explore below!  Notice that a list is created using `[]`. "
    },
    {
      "metadata": {
        "trusted": true
      },
      "cell_type": "code",
      "source": "my_list = [1,2,3,4]\nprint('my_list is', my_list)\n\nmy_list[0] = 3.14\nprint('my_list is now', my_list)\nprint('the last element in my_list is', my_list[-1])",
      "execution_count": 4,
      "outputs": [
        {
          "name": "stdout",
          "output_type": "stream",
          "text": "my_list is [1, 2, 3, 4]\nmy_list is now [3.14, 2, 3, 4]\nthe last element in my_list is 4\n"
        }
      ]
    },
    {
      "metadata": {},
      "cell_type": "markdown",
      "source": "Notice that indexing is done with brackets, `[]`.  Importantly. **in Python, indexing starts are zero**!  Also notice that we can index the last element of a list with `-1`.\n\nA **tuple** is just like a list, but it's immutable, meaning that once created, it cannot be changed.  Let's try the same thing as above, but with a tuple, created with `()`.  But notice that the indexing of the tuple is still denoted with `[]`. "
    },
    {
      "metadata": {
        "trusted": true
      },
      "cell_type": "code",
      "source": "# Create a tuple and print it\nmy_tuple = (1,2,3,4)\nprint('my tuple is', my_tuple) \n\n# This will make Python scream at us because tuples are immutable.\nmy_tuple[0] = 3.14",
      "execution_count": 5,
      "outputs": [
        {
          "name": "stdout",
          "output_type": "stream",
          "text": "my tuple is (1, 2, 3, 4)\n"
        },
        {
          "ename": "TypeError",
          "evalue": "'tuple' object does not support item assignment",
          "output_type": "error",
          "traceback": [
            "\u001b[0;31m---------------------------------------------------------------------------\u001b[0m",
            "\u001b[0;31mTypeError\u001b[0m                                 Traceback (most recent call last)",
            "\u001b[0;32m<ipython-input-5-deafc07bf361>\u001b[0m in \u001b[0;36m<module>\u001b[0;34m()\u001b[0m\n\u001b[1;32m      4\u001b[0m \u001b[0;34m\u001b[0m\u001b[0m\n\u001b[1;32m      5\u001b[0m \u001b[0;31m# This will make Python scream at us because tuples are immutable.\u001b[0m\u001b[0;34m\u001b[0m\u001b[0;34m\u001b[0m\u001b[0m\n\u001b[0;32m----> 6\u001b[0;31m \u001b[0mmy_tuple\u001b[0m\u001b[0;34m[\u001b[0m\u001b[0;36m0\u001b[0m\u001b[0;34m]\u001b[0m \u001b[0;34m=\u001b[0m \u001b[0;36m3.14\u001b[0m\u001b[0;34m\u001b[0m\u001b[0m\n\u001b[0m",
            "\u001b[0;31mTypeError\u001b[0m: 'tuple' object does not support item assignment"
          ]
        }
      ]
    },
    {
      "metadata": {},
      "cell_type": "markdown",
      "source": "What's the error?  Python is objecting because it cannot replace the `1` in `my_tuple[0]` with `3.14`; that operation is not supported. If you try printing out `my_tuple` again, you will see it hasn't been changed. "
    },
    {
      "metadata": {},
      "cell_type": "markdown",
      "source": "A **string** is just a bunch of letters, or letters and numbers, strung together.  It can also be indexed, like we did above with the list and the tuple.  Let's look at our favorite phrase.  "
    },
    {
      "metadata": {
        "trusted": true
      },
      "cell_type": "code",
      "source": "my_string = 'Hello, world.'\nprint('The fifth letter in the phrase is', my_string[4])\nprint('The first four letters are', my_string[0:4])",
      "execution_count": 6,
      "outputs": [
        {
          "name": "stdout",
          "output_type": "stream",
          "text": "The fifth letter in the phrase is o\nThe first four letters are Hell\n"
        }
      ]
    },
    {
      "metadata": {},
      "cell_type": "markdown",
      "source": "IMPORTANT!  Python interprets `[0:4]` as $[0,4)$, so be careful when pulling out strings of specific length.  Pulling small strings out of our larger string is called slicing, and can also be done with lists and tuples.  This can be very powerful, as we can even pull out pieces at regular intervals.  "
    },
    {
      "metadata": {
        "trusted": true
      },
      "cell_type": "code",
      "source": "my_list = [1, 2, 3, 4, 5, 6, 7, 8, 9, 10]\n\na = my_list[0:5]\nprint(a)\n\nb = my_list[5:]\nprint(b)\n\nc = my_list[0:10:2]\nprint(c)\n\nd = my_list[1:10:3]\nprint(d)",
      "execution_count": 7,
      "outputs": [
        {
          "name": "stdout",
          "output_type": "stream",
          "text": "[1, 2, 3, 4, 5]\n[6, 7, 8, 9, 10]\n[1, 3, 5, 7, 9]\n[2, 5, 8]\n"
        }
      ]
    },
    {
      "metadata": {},
      "cell_type": "markdown",
      "source": "Make sure you notice how we create lists c and d.  We select the entries in the list from position 0 to 9, selecting every 2 or 3, respectively.  "
    },
    {
      "metadata": {},
      "cell_type": "markdown",
      "source": "### Objects, types, and methods\n\nPython is object-oriented, and all values in a program are objects. An object consists of an **identity** (where it is stored in memory), a **type** (a definition of how the object is represented), and **data** (the value of the object). An object of a given type can have various methods that operate on the data of the object. How do we keep track of what type our variables are?  Fortunately, Python has a function for this, called `type()`.  Let's try it out.  First, we'll create some new objects. "
    },
    {
      "metadata": {
        "trusted": true
      },
      "cell_type": "code",
      "source": "a = 4\nb = 4.6\n\nmy_list = [1, 3.49, 'bi1x']\n\nprint('the type of a is', type(a))\nprint('the type of b is', type(b))\nprint('the type of my_list is', type(my_list))\nprint('the type of my_list[0] is', type(my_list[0]))\nprint('the type of my_list[1] is', type(my_list[1]))\nprint('the type of my_list[2] is', type(my_list[2]))",
      "execution_count": 8,
      "outputs": [
        {
          "name": "stdout",
          "output_type": "stream",
          "text": "the type of a is <class 'int'>\nthe type of b is <class 'float'>\nthe type of my_list is <class 'list'>\nthe type of my_list[0] is <class 'int'>\nthe type of my_list[1] is <class 'float'>\nthe type of my_list[2] is <class 'str'>\n"
        }
      ]
    },
    {
      "metadata": {},
      "cell_type": "markdown",
      "source": "What is most important to notice here is that `my_list` is a list, and that it can contain many different objects, from numbers to strings.  \n\nThe data are very straight forward; they are the numbers and values that you associate with your variable. \n\nFinally, objects have methods that can perform operations on the data. A method is called similarly to a function. This is best seen by example."
    },
    {
      "metadata": {
        "trusted": true
      },
      "cell_type": "code",
      "source": "my_list = [1 , 5 , 4 , 13 , 3 , 5 , 19 , 31 , 3 , 1 , 17]\n\nprint('the number of 5\\'s in the list is', my_list.count(5))\nprint('the number of 4\\'s in the list is', my_list.count(4))\n\n# Sort the list in place\nmy_list.sort()\nprint(my_list)\n\n# Tack on a string to the end of the list\nmy_list.append('bi1x')\nprint(my_list)",
      "execution_count": 9,
      "outputs": [
        {
          "name": "stdout",
          "output_type": "stream",
          "text": "the number of 5's in the list is 2\nthe number of 4's in the list is 1\n[1, 1, 3, 3, 4, 5, 5, 13, 17, 19, 31]\n[1, 1, 3, 3, 4, 5, 5, 13, 17, 19, 31, 'bi1x']\n"
        }
      ]
    },
    {
      "metadata": {},
      "cell_type": "markdown",
      "source": "As you can see, a `list` object has several methods including `count()` and `sort()`.  They are called just like functions, with arguments in parentheses. The name of the method comes after the object name followed by a dot\n(`.`).\n\nThe `count()` method takes a single argument and returns the number of times that argument appears in the list. The sort function takes no arguments (but still requires open and closed parentheses to be called), and sorts the list in place. Note that `my_list` has been changed and is now sorted. We also use the method `append()`, which adds another element to the end of a list.\n\nWithin Jupyter notebooks, IPython conveniently allows you to see what methods and data are available by entering the object name followed by a dot (`.`), and then pressing tab.  Try it!"
    },
    {
      "metadata": {},
      "cell_type": "markdown",
      "source": "### Modules\n\nIt is common that scientific software packages such as [Matlab](http://www.mathworks.com/products/matlab/) and [Mathematica](http://www.wolfram.com/mathematica/) are optimized for a flavor of scientific computing (such as matrix computation in the case of Matlab) and are rather full-featured.  On the other hand, Python is a programming language.  It was not specifically designed to do scientific computing.  So, plain old Python is very limited in scientific computing capability.\n\nHowever, Python is very flexible and allows use of **modules**.  A module contains classes, functions, attributes, data types, etc., beyond what is built in to Python. In order to use a module, you need to import it to make it available for use.  So, as we begin working on data analysis and simulations in Bi 1x, we need to import modules we will use. \n\nIt is important to note that until we import a module, its capacities are not available.  Keep that in mind: *Plain old Python won't do much until you import a module.*\n\nLet's now import one of the major workhorses of our class, NumPy!"
    },
    {
      "metadata": {
        "trusted": true
      },
      "cell_type": "code",
      "source": "# Importing is done with the import statement\nimport numpy as np\n\n# We now have access to some handy things, i.e. np.pi\nprint('circumference / diameter = ', np.pi)\nprint('cos(pi) = ', np.cos(np.pi))",
      "execution_count": 10,
      "outputs": [
        {
          "name": "stdout",
          "output_type": "stream",
          "text": "circumference / diameter =  3.141592653589793\ncos(pi) =  -1.0\n"
        }
      ]
    },
    {
      "metadata": {},
      "cell_type": "markdown",
      "source": "Notice that we used the `import <module> as <abbrev>` construction.  This enabled us to abbreviate the name of the module so we do not have to type `numpy` each time.\n\nAlso, notice that to access the (approximate) value of $\\pi$ in the `numpy` module, we prefaced the name of the attribute (`pi`) with the module name followed by a dot (`np.`).  This is generally how you access attributes in modules.\n\nWe're already getting dangerous with Python.  So dangerous, in fact, that we'll write our own function!"
    },
    {
      "metadata": {},
      "cell_type": "markdown",
      "source": "### Writing your own function (and learning a bunch of syntax!)\n\nWe will create a function that finds the roots of the quadratic equation\n\n\\begin{align}\nax^2 + bx + c = 0.\n\\end{align}\n\nTo do this, we will first write a function to compute the discriminant and then one to return the roots."
    },
    {
      "metadata": {
        "trusted": true
      },
      "cell_type": "code",
      "source": "def discriminant(a, b, c):\n    \"\"\"\n    Returns the discriminant of a quadratic polynomial\n    a * x**2 + b * x + c = 0.    \n    \"\"\"\n    return b**2 - 4.0 * a * c\n\n\ndef roots(a, b, c):\n    \"\"\"\n    Returns the roots of the quadratic equation\n    a * x**2 + b * x + c = 0.\n    \"\"\" \n    delta = discriminant(a, b, c)\n    root_1 = (-b + np.sqrt(delta)) / (2.0 * a)\n    root_2 = (-b - np.sqrt(delta)) / (2.0 * a)\n    \n    return root_1, root_2",
      "execution_count": 11,
      "outputs": []
    },
    {
      "metadata": {},
      "cell_type": "markdown",
      "source": "There is a whole bunch of syntax in there to point out. \n- A function is defined with the `def` statement.  It has the function prototype, followed by a colon.\n- **Indentation in Python matters!** Everything indented after the `def` statement is part of the function.  Once the indentation goes back to the level of the `def` statement, you are no longer in the function.\n- The `return` statement is used to return the result of a function.  If multiple objects are returned, they are separated by commas.\n- The text within triple quotes are **doc strings**.  They say what the function does.  These are essential for people to know what your code is doing.\n\nNow, let's test our new function out!"
    },
    {
      "metadata": {
        "trusted": true
      },
      "cell_type": "code",
      "source": "# Python has nifty syntax for making multiple definitions on the same line\na, b, c = 3.0, -7.0, -6.0\n\n# Call the function and print the result.\nroot_1, root_2 = roots(a, b, c)\nprint('roots:', root_1, root_2)",
      "execution_count": 12,
      "outputs": [
        {
          "name": "stdout",
          "output_type": "stream",
          "text": "roots: 3.0 -0.666666666667\n"
        }
      ]
    },
    {
      "metadata": {},
      "cell_type": "markdown",
      "source": "Very nice! Now, let's try another example. This one might have a problem...."
    },
    {
      "metadata": {
        "trusted": true
      },
      "cell_type": "code",
      "source": "# Specify a, b, and c that will give imaginary roots\na, b, c = 1.0, -2.0, 2.0\n\n# Call the function and print the result\nroot_1, root_2 = roots(a, b, c)\nprint('roots:', root_1, root_2)",
      "execution_count": 13,
      "outputs": [
        {
          "name": "stdout",
          "output_type": "stream",
          "text": "roots: nan nan\n"
        },
        {
          "name": "stderr",
          "output_type": "stream",
          "text": "/Users/Justin/anaconda/lib/python3.6/site-packages/ipykernel_launcher.py:15: RuntimeWarning: invalid value encountered in sqrt\n  from ipykernel import kernelapp as app\n/Users/Justin/anaconda/lib/python3.6/site-packages/ipykernel_launcher.py:16: RuntimeWarning: invalid value encountered in sqrt\n  app.launch_new_instance()\n"
        }
      ]
    },
    {
      "metadata": {},
      "cell_type": "markdown",
      "source": "Oh no!  It gave us `nan`, which means \"not a number,\" as our roots.  It also gave some warning that it encountered invalid (negative) arguments for the `np.sqrt()` function.  The roots should be $1 \\pm i$, where $i = \\sqrt{-1}$.  We will use this opportunity to introduce Python's control flow, starting with an `if` statement."
    },
    {
      "metadata": {},
      "cell_type": "markdown",
      "source": "### Control flow: the `if` statement\n\nWe will decree that our quadratic equation solver only handles real roots, so it will raise an **exception** if an imaginary root is encountered.  So, we modify the `roots()` function as follows."
    },
    {
      "metadata": {
        "trusted": true
      },
      "cell_type": "code",
      "source": "def roots(a, b, c):\n    \"\"\"\n    Returns the roots of the quadratic equation\n    a * x**2 + b * x + c = 0.\n    \"\"\" \n    delta = discriminant(a, b, c)\n\n    if delta < 0.0:\n        raise RuntimeError('Imaginary roots!  We only do real roots!')\n    else:\n        root_1 = (-b + np.sqrt(delta)) / (2.0 * a)\n        root_2 = (-b - np.sqrt(delta)) / (2.0 * a)\n    \n        return root_1, root_2",
      "execution_count": 14,
      "outputs": []
    },
    {
      "metadata": {},
      "cell_type": "markdown",
      "source": "We have now exposed the syntax for a Python `if` statement.  The conditional expression ends with a colon, just like the `def` statement.  Note the indentation of blocks of code after the conditionals.  (We actually did not need the `else` statement, because the program would just continue without the exception, but I left it there for illustrative purposes.  It is actually preferred not to have the `else` statement.)\n\nLet's try out our new function."
    },
    {
      "metadata": {
        "trusted": true
      },
      "cell_type": "code",
      "source": "# Pass in parameters that will give imaginary roots (use qd.roots)\na, b, c = 1.0, -2.0, 2.0\nroot_1, root_2 = roots(a, b, c)",
      "execution_count": 15,
      "outputs": [
        {
          "ename": "RuntimeError",
          "evalue": "Imaginary roots!  We only do real roots!",
          "output_type": "error",
          "traceback": [
            "\u001b[0;31m---------------------------------------------------------------------------\u001b[0m",
            "\u001b[0;31mRuntimeError\u001b[0m                              Traceback (most recent call last)",
            "\u001b[0;32m<ipython-input-15-f2c0024f0e92>\u001b[0m in \u001b[0;36m<module>\u001b[0;34m()\u001b[0m\n\u001b[1;32m      1\u001b[0m \u001b[0;31m# Pass in parameters that will give imaginary roots (use qd.roots)\u001b[0m\u001b[0;34m\u001b[0m\u001b[0;34m\u001b[0m\u001b[0m\n\u001b[1;32m      2\u001b[0m \u001b[0ma\u001b[0m\u001b[0;34m,\u001b[0m \u001b[0mb\u001b[0m\u001b[0;34m,\u001b[0m \u001b[0mc\u001b[0m \u001b[0;34m=\u001b[0m \u001b[0;36m1.0\u001b[0m\u001b[0;34m,\u001b[0m \u001b[0;34m-\u001b[0m\u001b[0;36m2.0\u001b[0m\u001b[0;34m,\u001b[0m \u001b[0;36m2.0\u001b[0m\u001b[0;34m\u001b[0m\u001b[0m\n\u001b[0;32m----> 3\u001b[0;31m \u001b[0mroot_1\u001b[0m\u001b[0;34m,\u001b[0m \u001b[0mroot_2\u001b[0m \u001b[0;34m=\u001b[0m \u001b[0mroots\u001b[0m\u001b[0;34m(\u001b[0m\u001b[0ma\u001b[0m\u001b[0;34m,\u001b[0m \u001b[0mb\u001b[0m\u001b[0;34m,\u001b[0m \u001b[0mc\u001b[0m\u001b[0;34m)\u001b[0m\u001b[0;34m\u001b[0m\u001b[0m\n\u001b[0m",
            "\u001b[0;32m<ipython-input-14-19d0df182b5c>\u001b[0m in \u001b[0;36mroots\u001b[0;34m(a, b, c)\u001b[0m\n\u001b[1;32m      7\u001b[0m \u001b[0;34m\u001b[0m\u001b[0m\n\u001b[1;32m      8\u001b[0m     \u001b[0;32mif\u001b[0m \u001b[0mdelta\u001b[0m \u001b[0;34m<\u001b[0m \u001b[0;36m0.0\u001b[0m\u001b[0;34m:\u001b[0m\u001b[0;34m\u001b[0m\u001b[0m\n\u001b[0;32m----> 9\u001b[0;31m         \u001b[0;32mraise\u001b[0m \u001b[0mRuntimeError\u001b[0m\u001b[0;34m(\u001b[0m\u001b[0;34m'Imaginary roots!  We only do real roots!'\u001b[0m\u001b[0;34m)\u001b[0m\u001b[0;34m\u001b[0m\u001b[0m\n\u001b[0m\u001b[1;32m     10\u001b[0m     \u001b[0;32melse\u001b[0m\u001b[0;34m:\u001b[0m\u001b[0;34m\u001b[0m\u001b[0m\n\u001b[1;32m     11\u001b[0m         \u001b[0mroot_1\u001b[0m \u001b[0;34m=\u001b[0m \u001b[0;34m(\u001b[0m\u001b[0;34m-\u001b[0m\u001b[0mb\u001b[0m \u001b[0;34m+\u001b[0m \u001b[0mnp\u001b[0m\u001b[0;34m.\u001b[0m\u001b[0msqrt\u001b[0m\u001b[0;34m(\u001b[0m\u001b[0mdelta\u001b[0m\u001b[0;34m)\u001b[0m\u001b[0;34m)\u001b[0m \u001b[0;34m/\u001b[0m \u001b[0;34m(\u001b[0m\u001b[0;36m2.0\u001b[0m \u001b[0;34m*\u001b[0m \u001b[0ma\u001b[0m\u001b[0;34m)\u001b[0m\u001b[0;34m\u001b[0m\u001b[0m\n",
            "\u001b[0;31mRuntimeError\u001b[0m: Imaginary roots!  We only do real roots!"
          ]
        }
      ]
    },
    {
      "metadata": {},
      "cell_type": "markdown",
      "source": "This threw the appropriate exception."
    },
    {
      "metadata": {},
      "cell_type": "markdown",
      "source": "### Loops\n\nIf we want to do something many times, we can use a for loop. This is again best learned by example. Let’s make a function that counts the number of times a substring is present in a sequence of DNA."
    },
    {
      "metadata": {
        "trusted": true
      },
      "cell_type": "code",
      "source": "def n_substring(seq, substr):\n    \"\"\"\n    Given a sequence seq , returns the number of occurrances of substring.\n    \"\"\"\n    # First make sure the length of substring is shorter than seq.\n    if len(substr) > len(seq) :\n        return 0\n\n    # We loop through the sequence to check for matches\n    num_substr = 0\n    for i in range(0, len(seq)-len(substr)+1):\n        if seq [i:i+len(substr)] == substr:\n            num_substr += 1\n            \n    # We are done looping now , so return the number of subsequences\n    return num_substr",
      "execution_count": 16,
      "outputs": []
    },
    {
      "metadata": {},
      "cell_type": "markdown",
      "source": "Let's see how it works!"
    },
    {
      "metadata": {
        "trusted": true
      },
      "cell_type": "code",
      "source": "# Specify sequences\nseq = 'ACTGTACGATCGAGCGATCGAGCGAGTCATTACGACTGAGATCC'\nsubstr = 'GAT'\n\n# Call function to get number of GAT substrings\nn_gat = n_substring(seq, substr)\n\n# Print the result\nprint('There are %d GATs in the sequence.' % n_gat)",
      "execution_count": 17,
      "outputs": [
        {
          "name": "stdout",
          "output_type": "stream",
          "text": "There are 3 GATs in the sequence.\n"
        }
      ]
    },
    {
      "metadata": {},
      "cell_type": "markdown",
      "source": "Now that we know it works, let’s look at how the loop was constructed. In the statement at the beginning of the loop, we use the function `range()` to define an *iterator*. Calling `range(n)` creates an object akin to a list of integers from `0` to `n-1`. The `for` statement says that the variable `i` will successively take the values of the iterator."
    },
    {
      "metadata": {},
      "cell_type": "markdown",
      "source": "### Keyword arguments\n\nBefore concluding our quick trip through the very basics of Python and on to NumPy, I want to show a very handy tool in Python, **keyword arguments**. Before, when we defined a function, we specified its arguments as variable names separated by commas in the def statement. We can also specify keyword arguments. Here is an example from our quadratic equation solver."
    },
    {
      "metadata": {
        "trusted": true
      },
      "cell_type": "code",
      "source": "def roots(a, b, c, print_discriminant=False, message_to_the_world='Bi 1x rules'):\n    \"\"\"\n    Returns the roots of the quadratic equation\n    a * x**2 + b * x + c = 0.\n    \n    If print_discriminant is True, prints discriminant to screen\n    \"\"\" \n    delta = discriminant(a, b, c)\n    if print_discriminant: \n        print('discriminant =', delta)\n        \n    if message_to_the_world is not None: \n        print('\\n' + '*'*len(message_to_the_world))\n        print(message_to_the_world)\n        print('*'*len(message_to_the_world) + '\\n')\n\n    if delta < 0.0:\n        raise ValueError('Imaginary roots!  We only do real roots!')\n    else:\n        root_1 = (-b + np.sqrt(delta)) / (2.0 * a)\n        root_2 = (-b - np.sqrt(delta)) / (2.0 * a)\n    \n        return root_1, root_2",
      "execution_count": 18,
      "outputs": []
    },
    {
      "metadata": {},
      "cell_type": "markdown",
      "source": "The function quadratic_roots now has two keyword arguments. They are signified by the equals sign. \n\nThe function has three required arguments,  `a`, `b`, `c`. If the keyword arguments are omitted in the function call, they take on the default values, as specified in the function definition. \n\nIn the example, the default for `print_discriminant` is `False` and the default for `message_to_the_world` is `'Bi 1x rules!'`. Furthermore, ordering of keyword arguments does not matter when calling the function. They are called in the function similarly to the way they are defined in the function definition.\n\nLet's try it!"
    },
    {
      "metadata": {
        "trusted": true
      },
      "cell_type": "code",
      "source": "a, b, c = 3.0, -7.0, -6.0\nroot_1, root_2 = roots(a, b, c)\nprint('roots:', root_1, root_2)",
      "execution_count": 19,
      "outputs": [
        {
          "name": "stdout",
          "output_type": "stream",
          "text": "\n***********\nBi 1x rules\n***********\n\nroots: 3.0 -0.666666666667\n"
        }
      ]
    },
    {
      "metadata": {},
      "cell_type": "markdown",
      "source": "Since we did not specify the keyword arguments, the defaults were used.  We can specify other values."
    },
    {
      "metadata": {
        "trusted": true
      },
      "cell_type": "code",
      "source": "root_1, root_2 = roots(a, b, c, print_discriminant=True,\n                       message_to_the_world='Bi 1x TAs are the best!')\nprint('roots:', root_1, root_2)",
      "execution_count": 20,
      "outputs": [
        {
          "name": "stdout",
          "output_type": "stream",
          "text": "discriminant = 121.0\n\n***********************\nBi 1x TAs are the best!\n***********************\n\nroots: 3.0 -0.666666666667\n"
        }
      ]
    },
    {
      "metadata": {},
      "cell_type": "markdown",
      "source": "## Intro to NumPy, SciPy, and Matplotlib\n\n**If you are trying to do a task that you think might be common, it's probably part of NumPy or some other package.**  Look, or ask Google, first.  In this case, NumPy has a function called `roots()` that computes the roots of a polynomial.  To figure out how to use it, we can either look at the doc string, or look in the [NumPy and SciPy documentation online](http://docs.scipy.org/doc/) (the documentation for `np.roots()` is available [here](http://docs.scipy.org/doc/numpy/reference/generated/numpy.roots.html)).  To look at the doc string, you can enter the following in a code cell:"
    },
    {
      "metadata": {
        "trusted": true
      },
      "cell_type": "code",
      "source": "np.roots?",
      "execution_count": 1,
      "outputs": [
        {
          "output_type": "stream",
          "text": "Object `np.roots` not found.\n",
          "name": "stdout"
        }
      ]
    },
    {
      "metadata": {},
      "cell_type": "markdown",
      "source": "We see that we need to pass the coefficients of the polynomial we would like the roots of using an \"`array_like`\" object.  We will discuss what this means in a moment, but for now, we will just use a **list** to specify our coefficients and call the `np.roots()` function."
    },
    {
      "metadata": {
        "trusted": true
      },
      "cell_type": "code",
      "source": "# Define the coefficients in a list (using square brackets)\ncoeffs = [3.0, -7.0, -6.0]\n\n# Call np.roots.  It returns an np.ndarray with the roots\nroots = np.roots(coeffs)\nprint('Roots for (a, b, c) = (3, -7, -6):', roots)\n\n# It even handles complex roots!\nroots = np.roots([1.0, -2.0, 2.0])\nprint('Roots for (a, b, c) = (1, -2, 2): ', roots)",
      "execution_count": 22,
      "outputs": [
        {
          "name": "stdout",
          "output_type": "stream",
          "text": "Roots for (a, b, c) = (3, -7, -6): [ 3.         -0.66666667]\nRoots for (a, b, c) = (1, -2, 2):  [ 1.+1.j  1.-1.j]\n"
        }
      ]
    },
    {
      "metadata": {},
      "cell_type": "markdown",
      "source": "### Some `array_like` data types\n\nIn the previous example, we used a list as an `array_like` data type.  Python has several native data types.  We have already mentioned `int`s and `float`s.  We just were not very explicit about it.  Python's native `array_like` data types are **lists** and **tuples**.  Internally, these things are converted into **NumPy arrays**, which is the most often used `array_like` data type we will use.  NumPy arrays are your new best friend."
    },
    {
      "metadata": {},
      "cell_type": "markdown",
      "source": "### The NumPy array: maybe your new best friend\n\nLists and tuples can be useful, but for many applications in data analysis, the `np.ndarray`, which we will colloquially call a \"**NumPy array**,\" is most often used.  They are created using the `np.array` function with a list or tuple as an argument.  Once created, we can do all sorts of things with them.  Let's play!\n\nLet's make some arrays to see what they look like: "
    },
    {
      "metadata": {
        "trusted": true
      },
      "cell_type": "code",
      "source": "array_1 = np.array([1, 2, 3, 4])\nprint('array 1:')\nprint(array_1, '\\n')\n\narray_2 = np.array([[1, 2], [1, 2]])\nprint('array_2:')\nprint(array_2, '\\n')\n\narray_3 = np.array([[1, 2, 3], [1, 2, 3], [1, 2, 3]])\nprint('array_3:')\nprint(array_3)",
      "execution_count": 23,
      "outputs": [
        {
          "name": "stdout",
          "output_type": "stream",
          "text": "array 1:\n[1 2 3 4] \n\narray_2:\n[[1 2]\n [1 2]] \n\narray_3:\n[[1 2 3]\n [1 2 3]\n [1 2 3]]\n"
        }
      ]
    },
    {
      "metadata": {},
      "cell_type": "markdown",
      "source": "Sometimes you want an array of all zero values, and that can also be done with `numpy`. "
    },
    {
      "metadata": {
        "trusted": true
      },
      "cell_type": "code",
      "source": "zero_array = np.zeros((3,4))\nprint(zero_array, '\\n')\nprint('the dimesions are', zero_array.shape)",
      "execution_count": 24,
      "outputs": [
        {
          "name": "stdout",
          "output_type": "stream",
          "text": "[[ 0.  0.  0.  0.]\n [ 0.  0.  0.  0.]\n [ 0.  0.  0.  0.]] \n\nthe dimesions are (3, 4)\n"
        }
      ]
    },
    {
      "metadata": {},
      "cell_type": "markdown",
      "source": "Now let's see how we can do operations on some arrays. "
    },
    {
      "metadata": {
        "trusted": true
      },
      "cell_type": "code",
      "source": "a = np.array([1, 2, 3])\nb = np.array([4.0, 5.0, 6.0])\n\n# Arithmetic operations are done elementwise\nprint('a:      ', a)\nprint('b:      ', b)\nprint('a + b:  ', a + b)\nprint('a * b:  ', a * b)\nprint('1.0 + a:', 1.0 + a)\nprint('a**2:   ', a**2)\nprint('b**a:   ', b**a)",
      "execution_count": 25,
      "outputs": [
        {
          "name": "stdout",
          "output_type": "stream",
          "text": "a:       [1 2 3]\nb:       [ 4.  5.  6.]\na + b:   [ 5.  7.  9.]\na * b:   [  4.  10.  18.]\n1.0 + a: [ 2.  3.  4.]\na**2:    [1 4 9]\nb**a:    [   4.   25.  216.]\n"
        }
      ]
    },
    {
      "metadata": {},
      "cell_type": "markdown",
      "source": "We can check the data type of our matrix."
    },
    {
      "metadata": {
        "trusted": true
      },
      "cell_type": "code",
      "source": "print(a.dtype)\nprint(b.dtype)",
      "execution_count": 26,
      "outputs": [
        {
          "name": "stdout",
          "output_type": "stream",
          "text": "int64\nfloat64\n"
        }
      ]
    },
    {
      "metadata": {},
      "cell_type": "markdown",
      "source": "We can also change the type of the entries of our arrays, for example, from integers to floating point.  "
    },
    {
      "metadata": {
        "trusted": true
      },
      "cell_type": "code",
      "source": "array_a = a.astype(float)\nprint(array_a)\n\narray_b = b.astype(int)\nprint(array_b)",
      "execution_count": 27,
      "outputs": [
        {
          "name": "stdout",
          "output_type": "stream",
          "text": "[ 1.  2.  3.]\n[4 5 6]\n"
        }
      ]
    },
    {
      "metadata": {},
      "cell_type": "markdown",
      "source": "Slicing is also intuitive. "
    },
    {
      "metadata": {
        "trusted": true
      },
      "cell_type": "code",
      "source": "a = np.array([[1, 2, 3, 4], [5, 6, 7, 8], [9, 10, 11, 12], [13, 14, 15, 16]])\n\nprint(a, '\\n')\nprint(a[0:3, 2:3])",
      "execution_count": 28,
      "outputs": [
        {
          "name": "stdout",
          "output_type": "stream",
          "text": "[[ 1  2  3  4]\n [ 5  6  7  8]\n [ 9 10 11 12]\n [13 14 15 16]] \n\n[[ 3]\n [ 7]\n [11]]\n"
        }
      ]
    },
    {
      "metadata": {
        "trusted": true
      },
      "cell_type": "code",
      "source": "# view second column\na[:,1]",
      "execution_count": 29,
      "outputs": [
        {
          "data": {
            "text/plain": "array([ 2,  6, 10, 14])"
          },
          "execution_count": 29,
          "metadata": {},
          "output_type": "execute_result"
        }
      ]
    },
    {
      "metadata": {
        "trusted": true
      },
      "cell_type": "code",
      "source": "# see all entries below the value of 10\na[a<10]",
      "execution_count": 30,
      "outputs": [
        {
          "data": {
            "text/plain": "array([1, 2, 3, 4, 5, 6, 7, 8, 9])"
          },
          "execution_count": 30,
          "metadata": {},
          "output_type": "execute_result"
        }
      ]
    },
    {
      "metadata": {},
      "cell_type": "markdown",
      "source": "Using slices, we can reassign values to the entries in a NumPy array. For example, say we wanted the third row to be all zeros."
    },
    {
      "metadata": {
        "trusted": true
      },
      "cell_type": "code",
      "source": "a[2, :] = np.zeros(a[2 ,:].shape)\nprint(a)",
      "execution_count": 31,
      "outputs": [
        {
          "name": "stdout",
          "output_type": "stream",
          "text": "[[ 1  2  3  4]\n [ 5  6  7  8]\n [ 0  0  0  0]\n [13 14 15 16]]\n"
        }
      ]
    },
    {
      "metadata": {},
      "cell_type": "markdown",
      "source": "We can also reshape arrays."
    },
    {
      "metadata": {
        "trusted": true
      },
      "cell_type": "code",
      "source": "a = a.reshape (2 ,8)\nprint(a, '\\n')  \n\na = a.reshape(4,4)\nprint(a)",
      "execution_count": 32,
      "outputs": [
        {
          "name": "stdout",
          "output_type": "stream",
          "text": "[[ 1  2  3  4  5  6  7  8]\n [ 0  0  0  0 13 14 15 16]] \n\n[[ 1  2  3  4]\n [ 5  6  7  8]\n [ 0  0  0  0]\n [13 14 15 16]]\n"
        }
      ]
    },
    {
      "metadata": {},
      "cell_type": "markdown",
      "source": "### NumPy functions\n\nHere are some useful NumPy functions we think you might want to use!  Go through these one-by-one in separate cells to see what they do."
    },
    {
      "metadata": {
        "trusted": true
      },
      "cell_type": "code",
      "source": "# create evenly spaced points\nnp.linspace(0, 1, 10)\n\n# matrix or vector dot products\nnp.dot(a, a)\n\n# concatenate in row dimensions\nnp.concatenate((a, a))\n\n# concatenate in the column dimension\nnp.concatenate((a, a), axis=1)\n\n# transpose (the result of this final operation will be displayed)\nnp.transpose(a)",
      "execution_count": 33,
      "outputs": [
        {
          "data": {
            "text/plain": "array([[ 1,  5,  0, 13],\n       [ 2,  6,  0, 14],\n       [ 3,  7,  0, 15],\n       [ 4,  8,  0, 16]])"
          },
          "execution_count": 33,
          "metadata": {},
          "output_type": "execute_result"
        }
      ]
    },
    {
      "metadata": {},
      "cell_type": "markdown",
      "source": "## Matplotlib: our primary plotting tool\n\nMatplotlib is a tool for plotting the data stored in NumPy arrays.  We will mostly use the module, `matplotlib.pyplot`, which we will abbreviate as `plt`.  Its syntax is quite simple, and best learned by example.  First, we need to import modules and set up Matplotlib so that the graphics are displayed within the Jupyter notebook."
    },
    {
      "metadata": {
        "collapsed": true,
        "trusted": true
      },
      "cell_type": "code",
      "source": "import matplotlib.pyplot as plt\n\n# Import magic function for graphics in Jupyter notebook\n%matplotlib inline",
      "execution_count": 34,
      "outputs": []
    },
    {
      "metadata": {},
      "cell_type": "markdown",
      "source": "To make plots look pretty, I like to use the [Seaborn](http://seaborn.pydata.org) package."
    },
    {
      "metadata": {
        "collapsed": true,
        "trusted": true
      },
      "cell_type": "code",
      "source": "import seaborn as sns",
      "execution_count": 35,
      "outputs": []
    },
    {
      "metadata": {},
      "cell_type": "markdown",
      "source": "Now that we have Matplotlib set up, we can make some plots."
    },
    {
      "metadata": {
        "trusted": true
      },
      "cell_type": "code",
      "source": "# Make an x-variable for plotting\nx = np.linspace(0, 2*np.pi, 200)\n\n# This is a nice function\ny_1 = np.exp(np.sin(x))\n\n# We can make another one\ny_2 = np.exp(np.cos(x))\n\n# We can make some random data to plot as well\nx_rand = np.random.rand(20) * 2 * np.pi\ny_rand = np.random.rand(20) * 3.0\n\n# Now plot them .\nplt.plot(x, y_1, '-') # The ’-’ means to use a line plot\nplt.plot(x, y_2, '-')\nplt.plot(x_rand, y_rand, 'k.', markersize=12) # The ’k.’ mean plot as black dots\n\n# Label the axes.  \nplt.xlabel('x')\nplt.ylabel('y')\n\n# We can save it as a PDF as well\nplt.savefig('my_first_mpl_plot.pdf')",
      "execution_count": 36,
      "outputs": [
        {
          "data": {
            "image/png": "[encoded data removed]",
            "text/plain": "<matplotlib.figure.Figure at 0x112b52cf8>"
          },
          "metadata": {},
          "output_type": "display_data"
        }
      ]
    },
    {
      "metadata": {},
      "cell_type": "markdown",
      "source": "To export the figure for insertion into a document, you can right click on the PNG in the Jupyter notebook and save it.  Better yet, you can save it as a PDF, which is preferred because it is a vector graphics format.  To do that, we can use the `plt.savefig()` function, as we did at the end of the cell above."
    },
    {
      "metadata": {},
      "cell_type": "markdown",
      "source": "## Programming style\n\n**[PEP](http://legacy.python.org/dev/peps/pep-0001/)**s (Python Enhancement Proposals) document suggestions and guidelines for the Python language, its development, etc.  My personal favorite is [PEP8, the Style Guide for Python Code](http://legacy.python.org/dev/peps/pep-0008/).  This was largely written by Guido von Rossum, the inventor of Python and its benevolent dictator for life.  It details how you should style your code.  As Guido says, code is much more often read than written.  I strongly urge you to follow PEP8 the best you can.  It's a lot to read, so I will highlight important points here.  If you follow these guidelines, your code will be much more readable than otherwise.  This is particularly useful because you are working in groups and the TAs need to grade your work.\n\n- Limit line widths to 79 characters (the line break character for Python is `\\`).\n- Use whitespace around low-priority operators. E.g., `x = a**2 + b**2` has whitespace around the `+` operator. Another good example is `y = m*x + b`.\n- In function calls, use a space after each comma.  Use no spaces before and after the equals sign when using keyword arguments.  E.g., `my_fun(a, b, c=True)`.\n- Do not use excess space when indexing.  E.g., `a[i]`, not `a [ i ]`.\n- Function names should be lowercase, with words separated by underscores as necessary to improve readability.\n- Comment lines should appear immediately before the code they describe.  Use in-line comments sparingly."
    },
    {
      "metadata": {},
      "cell_type": "markdown",
      "source": "## Using NumPy/SciPy to perform a linear regression\n\nAs a case study of how we can load in data and do analysis with it, we will consider a data set from one of the classic organisms in biology: Darwin's finches. Peter and Rosemary Grant have been working on the Galápagos island of Daphne for over forty years. During this time, they have collected lots and lots of data about physiological features of finches. A couple years ago, they published a book with a summary of some of their major results (Grant P. R., Grant B. R., Data from: 40 years of evolution. Darwin's finches on Daphne Major Island, Princeton University Press, 2014). They made their data from the book publicly available via the [Dryad Digital Repository](http://dx.doi.org/10.5061/dryad.g6g3h).\n\nWe will investigate their data on the heritability of beak depth (the distance, top to bottom, of a closed beak) in the ground finch Geospiza fortis. The data set consists of the maternal beak depth, the paternal beak depth, and the mean beak depth of their offspring. You can download the data set, which I got from Dryad and tidied up into a CSV file, [here](grant_and_grant_2014.csv).  Our goal it so do a linear regression to see how parental beak depth is related to that of the offspring.\n\nFirst, we will load in the data set.  It is in a comma delimited text file.  For this particular file, the data are preceded by comments about their content, with each comment line starting with a `#`.  We use NumPy's `loadtxt()` function with appropriate keyword arguments to load the data."
    },
    {
      "metadata": {
        "trusted": true
      },
      "cell_type": "code",
      "source": "# Load the data\ndata = np.loadtxt('grant_and_grant_2014.csv', comments='#', delimiter=',')\n\n# Get dimensions of what we loaded\ndata.shape",
      "execution_count": 37,
      "outputs": [
        {
          "data": {
            "text/plain": "(413, 3)"
          },
          "execution_count": 37,
          "metadata": {},
          "output_type": "execute_result"
        }
      ]
    },
    {
      "metadata": {},
      "cell_type": "markdown",
      "source": "We have 413 measurements with three columns.  As described in the comments of the data file, the first column is the mean beak depth (in millimeters) of the offspring, the second column is the paternal beak depth, and the third column is the maternal beak depth.  We can slice the columns we want out of the NumPy array containing the data."
    },
    {
      "metadata": {
        "collapsed": true,
        "trusted": true
      },
      "cell_type": "code",
      "source": "offspring_bd = data[:,0]\npaternal_bd = data[:,1]\nmaternal_bd = data[:,2]",
      "execution_count": 38,
      "outputs": []
    },
    {
      "metadata": {},
      "cell_type": "markdown",
      "source": "We want to plot mean offspring beak depth vs. mean parental beak depth, so we need to compute the mean parental beak depth.  Conveniently, we do not have to write a loop to compute this for each parent pair.  NumPy arrays allow for convenient elementwise calculation in a single command."
    },
    {
      "metadata": {
        "collapsed": true,
        "trusted": true
      },
      "cell_type": "code",
      "source": "parental_bd = (maternal_bd + paternal_bd) / 2",
      "execution_count": 39,
      "outputs": []
    },
    {
      "metadata": {},
      "cell_type": "markdown",
      "source": "Now we have the arrays we need to make our plot."
    },
    {
      "metadata": {
        "trusted": true
      },
      "cell_type": "code",
      "source": "plt.plot(parental_bd, offspring_bd, '.', alpha=0.7)\nplt.xlabel('parental beak depth (mm)')\nplt.ylabel('offpsring beak depth (mm)');",
      "execution_count": 40,
      "outputs": [
        {
          "data": {
            "image/png": "[encoded data removed]",
            "text/plain": "<matplotlib.figure.Figure at 0x11300a2b0>"
          },
          "metadata": {},
          "output_type": "display_data"
        }
      ]
    },
    {
      "metadata": {},
      "cell_type": "markdown",
      "source": "I chose to use the `alpha` keyword argument in the `plt.plot()` function because it helps visualize overlapping data points.  We see that parental and offspring beak depth are correlated, as we might expect.  \n\nLet's perform a linear regression to get the slope and intercept.  To perform the linear regression, we will use `scipy.optimize.curve_fit()`.  This function takes a set of data and returns the parameters of the model function that best describe the data. Its first input is the model function (which we have defined as linear); next is the $x$-data (in our case parental beak depth, `parental_bd`); the third input is the $y$-data (offspring beak depth, `offspring_bd`). The last piece that we will need to address is a best guess for our parameters. In this case, we have to provide two values, the slope and the intercept. `curve_fit()` works by finding the curve that minimizes the distance of every point from the curve (in our case, this will be minimizing the vertical distance between measured data points and the line describing the data).\n\nMore explicitly, `scipy.optimize.curve_fit()` will take the sum of the squares of the vertical differences of each data point to the model function and try to minimize this value by adjusting the model parameters. For nonlinear fits, you will need to provide reasonable guesses for the best-fit parameters, as there may be many local minima for minimizing the error. In the case of linear regression, we do not need to be too careful, as there will actually be one minimum that best fits the data. For more on the `scipy.optimize.curve_fit()` function, please read the [documentation](http://docs.scipy.org/doc/scipy/reference/generated/scipy.optimize.curve_fit.html).\n\nWhen we run `scipy.optimize.curve_fit()`, we will get two arrays out. The first array contains the optimal set of parameters for the curve fit. The second array is a 2d array with the covariance of the optimal parameters. For this course, we will ignore the second array and will only use the first array, which, for linear regressions, will give us the slope and intercept."
    },
    {
      "metadata": {
        "trusted": true
      },
      "cell_type": "code",
      "source": "import scipy.optimize\n\n# Define linear function\ndef linear_fun(x, slope, intercept):\n    return slope * x + intercept\n\n# Compute the curve fit (Guess is unit slope and zero intercept)\npopt, _ = scipy.optimize.curve_fit(linear_fun, parental_bd, offspring_bd, \n                                   p0=[1,0])\n\n# Parse the results\nslope, intercept = popt\n\n# Print the results\nprint('slope =', slope)\nprint('intercept =', intercept, 'mm')",
      "execution_count": 41,
      "outputs": [
        {
          "name": "stdout",
          "output_type": "stream",
          "text": "slope = 0.722905188545\nintercept = 2.44841830979 mm\n"
        }
      ]
    },
    {
      "metadata": {},
      "cell_type": "markdown",
      "source": "So, we got our values for the slope and intercept.  We can plot the best fit line along with the data."
    },
    {
      "metadata": {
        "trusted": true
      },
      "cell_type": "code",
      "source": "# Plot data points\nplt.plot(parental_bd, offspring_bd, '.', alpha=0.7)\n\n# Plot best fit line\nx = np.linspace(7, 12, 200)\ny = linear_fun(x, slope, intercept)\nplt.plot(x, y, '-', linewidth=2, zorder=1)\n\nplt.xlabel('parental beak depth (mm)')\nplt.ylabel('offpsring beak depth (mm)');",
      "execution_count": 44,
      "outputs": [
        {
          "data": {
            "image/png": "[encoded data removed]",
            "text/plain": "<matplotlib.figure.Figure at 0x1137d7080>"
          },
          "metadata": {},
          "output_type": "display_data"
        }
      ]
    },
    {
      "metadata": {},
      "cell_type": "markdown",
      "source": "This does not look exactly like what we would draw by eye, but this is because of overlapping data points.  This is, indeed, the best fit line."
    },
    {
      "metadata": {},
      "cell_type": "markdown",
      "source": "## Conclusions\n\nThis concludes our introductory tour of Python with some NumPy, SciPy, and Matplotlib thrown in for good measure.  There is still *much* to learn, but you will pick up more and more tricks and syntax as we go along.\n\nFor the next tutorial, we will use Python to do some image processing. That is, we will write code to extract data of interest from images. As you get more and more proficient, coding (particularly in Python, in my opinion) will be more and more empowering and FUN!"
    }
  ],
  "metadata": {
    "kernelspec": {
      "name": "python3",
      "display_name": "Python 3",
      "language": "python"
    },
    "language_info": {
      "mimetype": "text/x-python",
      "nbconvert_exporter": "python",
      "name": "python",
      "pygments_lexer": "ipython3",
      "version": "3.5.4",
      "file_extension": ".py",
      "codemirror_mode": {
        "version": 3,
        "name": "ipython"
      }
    }
  },
  "nbformat": 4,
  "nbformat_minor": 1
}