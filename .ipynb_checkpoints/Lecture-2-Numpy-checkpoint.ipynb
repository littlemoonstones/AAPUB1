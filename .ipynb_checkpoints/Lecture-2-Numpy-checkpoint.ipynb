{
  "cells": [
    {
      "metadata": {},
      "cell_type": "markdown",
      "source": "# Numpy -  multidimensional data arrays"
    },
    {
      "metadata": {},
      "cell_type": "markdown",
      "source": "J.R. Johansson (jrjohansson at gmail.com)\n\nThe latest version of this [IPython notebook](http://ipython.org/notebook.html) lecture is available at [http://github.com/jrjohansson/scientific-python-lectures](http://github.com/jrjohansson/scientific-python-lectures).\n\nThe other notebooks in this lecture series are indexed at [http://jrjohansson.github.io](http://jrjohansson.github.io)."
    },
    {
      "metadata": {
        "trusted": true
      },
      "cell_type": "code",
      "source": "# what is this line all about?!? Answer in lecture 4\n%matplotlib inline\nimport matplotlib.pyplot as plt",
      "execution_count": 8,
      "outputs": []
    },
    {
      "metadata": {},
      "cell_type": "markdown",
      "source": "## Introduction"
    },
    {
      "metadata": {
        "trusted": true
      },
      "cell_type": "code",
      "source": "##  URL::  https://aapub1-azms6492.notebooks.azure.com/j/notebooks/Lecture-2-Numpy.ipynb   ",
      "execution_count": null,
      "outputs": []
    },
    {
      "metadata": {},
      "cell_type": "markdown",
      "source": "The `numpy` package (module) is used in almost all numerical computation using Python. It is a package that provide high-performance vector, matrix and higher-dimensional data structures for Python. It is implemented in C and Fortran so when calculations are vectorized (formulated with vectors and matrices), performance is very good. \n\nTo use `numpy` you need to import the module, using for example:"
    },
    {
      "metadata": {
        "trusted": true
      },
      "cell_type": "code",
      "source": "from numpy import *\nprint \"Ready ??--Numpy for AZURE notebook-Python 繪製圖表 \"",
      "execution_count": 1,
      "outputs": [
        {
          "output_type": "stream",
          "text": "Ready ??--Numpy for AZURE notebook-Python 繪製圖表 \n",
          "name": "stdout"
        }
      ]
    },
    {
      "metadata": {},
      "cell_type": "markdown",
      "source": "In the `numpy` package the terminology used for vectors, matrices and higher-dimensional data sets is *array*. \n\n"
    },
    {
      "metadata": {},
      "cell_type": "markdown",
      "source": "##  DEMO  - https://aapub1-azms6492.notebooks.azure.com/j/notebooks/Lecture-2-Numpy.ipynb \n"
    },
    {
      "metadata": {
        "trusted": true
      },
      "cell_type": "code",
      "source": "##  URL from website::  ",
      "execution_count": null,
      "outputs": []
    },
    {
      "metadata": {
        "trusted": true
      },
      "cell_type": "code",
      "source": "from pylab import *\nimport numpy as np\nx = np.linspace(-np.pi, np.pi, num=256, endpoint=True)\ny = np.cos(x)\ny1 = np.sin(x)\n",
      "execution_count": null,
      "outputs": []
    },
    {
      "metadata": {
        "trusted": true
      },
      "cell_type": "code",
      "source": "plot(x, y)\nplot(x, y1)\n# define plot title $\\sin$表示希臘字母\ntitle(\"Functions $\\sin$ and $\\cos$\")",
      "execution_count": null,
      "outputs": []
    },
    {
      "metadata": {
        "trusted": true
      },
      "cell_type": "code",
      "source": "# set x limit\nxlim(-3.0, 3.0)\n# set y limit\nylim(-1.0, 1.0)\n",
      "execution_count": null,
      "outputs": []
    },
    {
      "metadata": {
        "trusted": true
      },
      "cell_type": "code",
      "source": "# format ticks at specific values\nxticks([-np.pi, -np.pi/2, 0, np.pi/2, np.pi],\n[r'$-\\pi$', r'$-\\pi/2$', r'$0$', r'$+\\pi/2$', r'$+\\pi$'])\nyticks([-1, 0, +1],\n[r'$-1$', r'$0$', r'$+1$'])\n",
      "execution_count": null,
      "outputs": []
    },
    {
      "metadata": {
        "trusted": true
      },
      "cell_type": "code",
      "source": "",
      "execution_count": null,
      "outputs": []
    },
    {
      "metadata": {},
      "cell_type": "markdown",
      "source": "## Creating `numpy` arrays"
    },
    {
      "metadata": {},
      "cell_type": "markdown",
      "source": "There are a number of ways to initialize new numpy arrays, for example from\n\n* a Python list or tuples\n* using functions that are dedicated to generating numpy arrays, such as `arange`, `linspace`, etc.\n* reading data from files"
    },
    {
      "metadata": {},
      "cell_type": "markdown",
      "source": "### From lists"
    },
    {
      "metadata": {},
      "cell_type": "markdown",
      "source": "For example, to create new vector and matrix arrays from Python lists we can use the `numpy.array` function."
    },
    {
      "metadata": {
        "trusted": true
      },
      "cell_type": "code",
      "source": "# a vector: the argument to the array function is a Python list\nv = array([1,2,3,4, 5, 101, 102])\n\nv\nprint v",
      "execution_count": 10,
      "outputs": [
        {
          "name": "stdout",
          "output_type": "stream",
          "text": "[  1   2   3   4   5 101 102]\n"
        }
      ]
    },
    {
      "metadata": {
        "trusted": true
      },
      "cell_type": "code",
      "source": "# a matrix: the argument to the array function is a nested Python list\nM = array([[1, 2], [3, 4]])\n\nM",
      "execution_count": 11,
      "outputs": [
        {
          "data": {
            "text/plain": "array([[1, 2],\n       [3, 4]])"
          },
          "execution_count": 11,
          "metadata": {},
          "output_type": "execute_result"
        }
      ]
    },
    {
      "metadata": {},
      "cell_type": "markdown",
      "source": "The `v` and `M` objects are both of the type `ndarray` that the `numpy` module provides."
    },
    {
      "metadata": {
        "trusted": true
      },
      "cell_type": "code",
      "source": "type(v), type(M)",
      "execution_count": 12,
      "outputs": [
        {
          "data": {
            "text/plain": "(numpy.ndarray, numpy.ndarray)"
          },
          "execution_count": 12,
          "metadata": {},
          "output_type": "execute_result"
        }
      ]
    },
    {
      "metadata": {},
      "cell_type": "markdown",
      "source": "The difference between the `v` and `M` arrays is only their shapes. We can get information about the shape of an array by using the `ndarray.shape` property."
    },
    {
      "metadata": {
        "trusted": true
      },
      "cell_type": "code",
      "source": "v.shape",
      "execution_count": 13,
      "outputs": [
        {
          "data": {
            "text/plain": "(7,)"
          },
          "execution_count": 13,
          "metadata": {},
          "output_type": "execute_result"
        }
      ]
    },
    {
      "metadata": {
        "trusted": true
      },
      "cell_type": "code",
      "source": "M.shape",
      "execution_count": 14,
      "outputs": [
        {
          "data": {
            "text/plain": "(2, 2)"
          },
          "execution_count": 14,
          "metadata": {},
          "output_type": "execute_result"
        }
      ]
    },
    {
      "metadata": {},
      "cell_type": "markdown",
      "source": "The number of elements in the array is available through the `ndarray.size` property:"
    },
    {
      "metadata": {
        "trusted": true
      },
      "cell_type": "code",
      "source": "M.size",
      "execution_count": 15,
      "outputs": [
        {
          "data": {
            "text/plain": "4"
          },
          "execution_count": 15,
          "metadata": {},
          "output_type": "execute_result"
        }
      ]
    },
    {
      "metadata": {},
      "cell_type": "markdown",
      "source": "Equivalently, we could use the function `numpy.shape` and `numpy.size`"
    },
    {
      "metadata": {
        "trusted": true
      },
      "cell_type": "code",
      "source": "shape(M)",
      "execution_count": 16,
      "outputs": [
        {
          "data": {
            "text/plain": "(2, 2)"
          },
          "execution_count": 16,
          "metadata": {},
          "output_type": "execute_result"
        }
      ]
    },
    {
      "metadata": {
        "trusted": true
      },
      "cell_type": "code",
      "source": "size(M)",
      "execution_count": 17,
      "outputs": [
        {
          "data": {
            "text/plain": "4"
          },
          "execution_count": 17,
          "metadata": {},
          "output_type": "execute_result"
        }
      ]
    },
    {
      "metadata": {},
      "cell_type": "markdown",
      "source": "So far the `numpy.ndarray` looks awefully much like a Python list (or nested list). Why not simply use Python lists for computations instead of creating a new array type? \n\nThere are several reasons:\n\n* Python lists are very general. They can contain any kind of object. They are dynamically typed. They do not support mathematical functions such as matrix and dot multiplications, etc. Implementing such functions for Python lists would not be very efficient because of the dynamic typing.\n* Numpy arrays are **statically typed** and **homogeneous**. The type of the elements is determined when the array is created.\n* Numpy arrays are memory efficient.\n* Because of the static typing, fast implementation of mathematical functions such as multiplication and addition of `numpy` arrays can be implemented in a compiled language (C and Fortran is used).\n\nUsing the `dtype` (data type) property of an `ndarray`, we can see what type the data of an array has:"
    },
    {
      "metadata": {
        "trusted": true
      },
      "cell_type": "code",
      "source": "M.dtype",
      "execution_count": 18,
      "outputs": [
        {
          "data": {
            "text/plain": "dtype('int64')"
          },
          "execution_count": 18,
          "metadata": {},
          "output_type": "execute_result"
        }
      ]
    },
    {
      "metadata": {},
      "cell_type": "markdown",
      "source": "We get an error if we try to assign a value of the wrong type to an element in a numpy array:"
    },
    {
      "metadata": {
        "trusted": true
      },
      "cell_type": "code",
      "source": "M[0,0] = \"hello\"",
      "execution_count": 19,
      "outputs": [
        {
          "ename": "ValueError",
          "evalue": "invalid literal for long() with base 10: 'hello'",
          "output_type": "error",
          "traceback": [
            "\u001b[0;31m\u001b[0m",
            "\u001b[0;31mValueError\u001b[0mTraceback (most recent call last)",
            "\u001b[0;32m<ipython-input-19-a09d72434238>\u001b[0m in \u001b[0;36m<module>\u001b[0;34m()\u001b[0m\n\u001b[0;32m----> 1\u001b[0;31m \u001b[0mM\u001b[0m\u001b[0;34m[\u001b[0m\u001b[0;36m0\u001b[0m\u001b[0;34m,\u001b[0m\u001b[0;36m0\u001b[0m\u001b[0;34m]\u001b[0m \u001b[0;34m=\u001b[0m \u001b[0;34m\"hello\"\u001b[0m\u001b[0;34m\u001b[0m\u001b[0m\n\u001b[0m",
            "\u001b[0;31mValueError\u001b[0m: invalid literal for long() with base 10: 'hello'"
          ]
        }
      ]
    },
    {
      "metadata": {},
      "cell_type": "markdown",
      "source": "If we want, we can explicitly define the type of the array data when we create it, using the `dtype` keyword argument: "
    },
    {
      "metadata": {
        "trusted": true
      },
      "cell_type": "code",
      "source": "M = array([[1, 2], [3, 4]], dtype=complex)\n\nM",
      "execution_count": null,
      "outputs": []
    },
    {
      "metadata": {},
      "cell_type": "markdown",
      "source": "Common data types that can be used with `dtype` are: `int`, `float`, `complex`, `bool`, `object`, etc.\n\nWe can also explicitly define the bit size of the data types, for example: `int64`, `int16`, `float128`, `complex128`."
    },
    {
      "metadata": {},
      "cell_type": "markdown",
      "source": "### Using array-generating functions"
    },
    {
      "metadata": {},
      "cell_type": "markdown",
      "source": "For larger arrays it is inpractical to initialize the data manually, using explicit python lists. Instead we can use one of the many functions in `numpy` that generate arrays of different forms. Some of the more common are:"
    },
    {
      "metadata": {},
      "cell_type": "markdown",
      "source": "#### arange"
    },
    {
      "metadata": {
        "trusted": true
      },
      "cell_type": "code",
      "source": "# create a range\n\nx = arange(0, 120, 1) # arguments: start, stop, step\n\nx",
      "execution_count": null,
      "outputs": []
    },
    {
      "metadata": {
        "trusted": true
      },
      "cell_type": "code",
      "source": "x = arange(-1, 1, 0.1)\n\nx",
      "execution_count": null,
      "outputs": []
    },
    {
      "metadata": {},
      "cell_type": "markdown",
      "source": "#### linspace and logspace"
    },
    {
      "metadata": {
        "trusted": true
      },
      "cell_type": "code",
      "source": "# using linspace, both end points ARE included\nlinspace(0, 10, 25)",
      "execution_count": null,
      "outputs": []
    },
    {
      "metadata": {
        "trusted": true
      },
      "cell_type": "code",
      "source": "logspace(0, 10, 10, base=e)",
      "execution_count": null,
      "outputs": []
    },
    {
      "metadata": {},
      "cell_type": "markdown",
      "source": "#### mgrid"
    },
    {
      "metadata": {
        "trusted": true
      },
      "cell_type": "code",
      "source": "x, y = mgrid[0:5, 0:5] # similar to meshgrid in MATLAB",
      "execution_count": null,
      "outputs": []
    },
    {
      "metadata": {
        "trusted": true
      },
      "cell_type": "code",
      "source": "x",
      "execution_count": null,
      "outputs": []
    },
    {
      "metadata": {
        "trusted": true
      },
      "cell_type": "code",
      "source": "y",
      "execution_count": null,
      "outputs": []
    },
    {
      "metadata": {},
      "cell_type": "markdown",
      "source": "#### random data"
    },
    {
      "metadata": {
        "trusted": true
      },
      "cell_type": "code",
      "source": "from numpy import random",
      "execution_count": null,
      "outputs": []
    },
    {
      "metadata": {
        "trusted": true
      },
      "cell_type": "code",
      "source": "# uniform random numbers in [0,1]\nrandom.rand(5,5)",
      "execution_count": null,
      "outputs": []
    },
    {
      "metadata": {
        "trusted": true
      },
      "cell_type": "code",
      "source": "# standard normal distributed random numbers\nrandom.randn(5,5)",
      "execution_count": null,
      "outputs": []
    },
    {
      "metadata": {},
      "cell_type": "markdown",
      "source": "#### diag"
    },
    {
      "metadata": {
        "trusted": true
      },
      "cell_type": "code",
      "source": "# a diagonal matrix\ndiag([1,2,3])",
      "execution_count": null,
      "outputs": []
    },
    {
      "metadata": {
        "trusted": true
      },
      "cell_type": "code",
      "source": "# diagonal with offset from the main diagonal\ndiag([1,2,3], k=1) ",
      "execution_count": null,
      "outputs": []
    },
    {
      "metadata": {},
      "cell_type": "markdown",
      "source": "#### zeros and ones"
    },
    {
      "metadata": {
        "trusted": true
      },
      "cell_type": "code",
      "source": "zeros((3,3))",
      "execution_count": null,
      "outputs": []
    },
    {
      "metadata": {
        "trusted": true
      },
      "cell_type": "code",
      "source": "ones((3,3))",
      "execution_count": null,
      "outputs": []
    },
    {
      "metadata": {},
      "cell_type": "markdown",
      "source": "## File I/O"
    },
    {
      "metadata": {},
      "cell_type": "markdown",
      "source": "### Comma-separated values (CSV)"
    },
    {
      "metadata": {},
      "cell_type": "markdown",
      "source": "A very common file format for data files is comma-separated values (CSV), or related formats such as TSV (tab-separated values). To read data from such files into Numpy arrays we can use the `numpy.genfromtxt` function. For example, "
    },
    {
      "metadata": {
        "trusted": true
      },
      "cell_type": "code",
      "source": "!head stockholm_td_adj.dat",
      "execution_count": null,
      "outputs": []
    },
    {
      "metadata": {
        "trusted": true
      },
      "cell_type": "code",
      "source": "data = genfromtxt('stockholm_td_adj.dat')",
      "execution_count": null,
      "outputs": []
    },
    {
      "metadata": {
        "trusted": true
      },
      "cell_type": "code",
      "source": "data.shape",
      "execution_count": null,
      "outputs": []
    },
    {
      "metadata": {
        "trusted": true
      },
      "cell_type": "code",
      "source": "fig, ax = plt.subplots(figsize=(14,4))\nax.plot(data[:,0]+data[:,1]/12.0+data[:,2]/365, data[:,5])\nax.axis('tight')\nax.set_title('tempeatures in Stockholm')\nax.set_xlabel('year')\nax.set_ylabel('temperature (C)');",
      "execution_count": null,
      "outputs": []
    },
    {
      "metadata": {},
      "cell_type": "markdown",
      "source": "Using `numpy.savetxt` we can store a Numpy array to a file in CSV format:"
    },
    {
      "metadata": {
        "trusted": true
      },
      "cell_type": "code",
      "source": "M = random.rand(3,3)\n\nM",
      "execution_count": null,
      "outputs": []
    },
    {
      "metadata": {
        "trusted": true
      },
      "cell_type": "code",
      "source": "savetxt(\"random-matrix.csv\", M)",
      "execution_count": null,
      "outputs": []
    },
    {
      "metadata": {
        "trusted": true
      },
      "cell_type": "code",
      "source": "!cat random-matrix.csv",
      "execution_count": null,
      "outputs": []
    },
    {
      "metadata": {
        "trusted": true
      },
      "cell_type": "code",
      "source": "savetxt(\"random-matrix.csv\", M, fmt='%.5f') # fmt specifies the format\n\n!cat random-matrix.csv",
      "execution_count": null,
      "outputs": []
    },
    {
      "metadata": {},
      "cell_type": "markdown",
      "source": "### Numpy's native file format"
    },
    {
      "metadata": {},
      "cell_type": "markdown",
      "source": "Useful when storing and reading back numpy array data. Use the functions `numpy.save` and `numpy.load`:"
    },
    {
      "metadata": {
        "trusted": true
      },
      "cell_type": "code",
      "source": "save(\"random-matrix.npy\", M)\n\n!file random-matrix.npy",
      "execution_count": null,
      "outputs": []
    },
    {
      "metadata": {
        "trusted": true
      },
      "cell_type": "code",
      "source": "load(\"random-matrix.npy\")",
      "execution_count": null,
      "outputs": []
    },
    {
      "metadata": {},
      "cell_type": "markdown",
      "source": "## More properties of the numpy arrays"
    },
    {
      "metadata": {
        "trusted": true
      },
      "cell_type": "code",
      "source": "M.itemsize # bytes per element",
      "execution_count": null,
      "outputs": []
    },
    {
      "metadata": {
        "trusted": true
      },
      "cell_type": "code",
      "source": "M.nbytes # number of bytes",
      "execution_count": null,
      "outputs": []
    },
    {
      "metadata": {
        "trusted": true
      },
      "cell_type": "code",
      "source": "M.ndim # number of dimensions",
      "execution_count": null,
      "outputs": []
    },
    {
      "metadata": {},
      "cell_type": "markdown",
      "source": "## Manipulating arrays"
    },
    {
      "metadata": {},
      "cell_type": "markdown",
      "source": "### Indexing"
    },
    {
      "metadata": {},
      "cell_type": "markdown",
      "source": "We can index elements in an array using square brackets and indices:"
    },
    {
      "metadata": {
        "trusted": true
      },
      "cell_type": "code",
      "source": "# v is a vector, and has only one dimension, taking one index\nv[0]",
      "execution_count": null,
      "outputs": []
    },
    {
      "metadata": {
        "trusted": true
      },
      "cell_type": "code",
      "source": "# M is a matrix, or a 2 dimensional array, taking two indices \nM[1,1]",
      "execution_count": null,
      "outputs": []
    },
    {
      "metadata": {},
      "cell_type": "markdown",
      "source": "If we omit an index of a multidimensional array it returns the whole row (or, in general, a N-1 dimensional array) "
    },
    {
      "metadata": {
        "trusted": true
      },
      "cell_type": "code",
      "source": "M",
      "execution_count": null,
      "outputs": []
    },
    {
      "metadata": {
        "trusted": true
      },
      "cell_type": "code",
      "source": "M[1]",
      "execution_count": null,
      "outputs": []
    },
    {
      "metadata": {},
      "cell_type": "markdown",
      "source": "The same thing can be achieved with using `:` instead of an index: "
    },
    {
      "metadata": {
        "trusted": true
      },
      "cell_type": "code",
      "source": "M[1,:] # row 1",
      "execution_count": null,
      "outputs": []
    },
    {
      "metadata": {
        "trusted": true
      },
      "cell_type": "code",
      "source": "M[:,1] # column 1",
      "execution_count": null,
      "outputs": []
    },
    {
      "metadata": {},
      "cell_type": "markdown",
      "source": "We can assign new values to elements in an array using indexing:"
    },
    {
      "metadata": {
        "trusted": true
      },
      "cell_type": "code",
      "source": "M[0,0] = 1",
      "execution_count": null,
      "outputs": []
    },
    {
      "metadata": {
        "trusted": true
      },
      "cell_type": "code",
      "source": "M",
      "execution_count": null,
      "outputs": []
    },
    {
      "metadata": {
        "trusted": true
      },
      "cell_type": "code",
      "source": "# also works for rows and columns\nM[1,:] = 0\nM[:,2] = -1",
      "execution_count": null,
      "outputs": []
    },
    {
      "metadata": {
        "trusted": true
      },
      "cell_type": "code",
      "source": "M",
      "execution_count": null,
      "outputs": []
    },
    {
      "metadata": {},
      "cell_type": "markdown",
      "source": "### Index slicing"
    },
    {
      "metadata": {},
      "cell_type": "markdown",
      "source": "Index slicing is the technical name for the syntax `M[lower:upper:step]` to extract part of an array:"
    },
    {
      "metadata": {
        "trusted": true
      },
      "cell_type": "code",
      "source": "A = array([1,2,3,4,5])\nA",
      "execution_count": null,
      "outputs": []
    },
    {
      "metadata": {
        "trusted": true
      },
      "cell_type": "code",
      "source": "A[1:3]",
      "execution_count": null,
      "outputs": []
    },
    {
      "metadata": {},
      "cell_type": "markdown",
      "source": "Array slices are *mutable*: if they are assigned a new value the original array from which the slice was extracted is modified:"
    },
    {
      "metadata": {
        "trusted": true
      },
      "cell_type": "code",
      "source": "A[1:3] = [-2,-3]\n\nA",
      "execution_count": null,
      "outputs": []
    },
    {
      "metadata": {},
      "cell_type": "markdown",
      "source": "We can omit any of the three parameters in `M[lower:upper:step]`:"
    },
    {
      "metadata": {
        "trusted": true
      },
      "cell_type": "code",
      "source": "A[::] # lower, upper, step all take the default values",
      "execution_count": null,
      "outputs": []
    },
    {
      "metadata": {
        "trusted": true
      },
      "cell_type": "code",
      "source": "A[::2] # step is 2, lower and upper defaults to the beginning and end of the array",
      "execution_count": null,
      "outputs": []
    },
    {
      "metadata": {
        "trusted": true
      },
      "cell_type": "code",
      "source": "A[:3] # first three elements",
      "execution_count": null,
      "outputs": []
    },
    {
      "metadata": {
        "trusted": true
      },
      "cell_type": "code",
      "source": "A[3:] # elements from index 3",
      "execution_count": null,
      "outputs": []
    },
    {
      "metadata": {},
      "cell_type": "markdown",
      "source": "Negative indices counts from the end of the array (positive index from the begining):"
    },
    {
      "metadata": {
        "trusted": true
      },
      "cell_type": "code",
      "source": "A = array([1,2,3,4,5])",
      "execution_count": null,
      "outputs": []
    },
    {
      "metadata": {
        "trusted": true
      },
      "cell_type": "code",
      "source": "A[-1] # the last element in the array",
      "execution_count": null,
      "outputs": []
    },
    {
      "metadata": {
        "trusted": true
      },
      "cell_type": "code",
      "source": "A[-3:] # the last three elements",
      "execution_count": null,
      "outputs": []
    },
    {
      "metadata": {},
      "cell_type": "markdown",
      "source": "Index slicing works exactly the same way for multidimensional arrays:"
    },
    {
      "metadata": {
        "trusted": true
      },
      "cell_type": "code",
      "source": "A = array([[n+m*10 for n in range(5)] for m in range(5)])\n\nA",
      "execution_count": null,
      "outputs": []
    },
    {
      "metadata": {
        "trusted": true
      },
      "cell_type": "code",
      "source": "# a block from the original array\nA[1:4, 1:4]",
      "execution_count": null,
      "outputs": []
    },
    {
      "metadata": {
        "trusted": true
      },
      "cell_type": "code",
      "source": "# strides\nA[::2, ::2]",
      "execution_count": null,
      "outputs": []
    },
    {
      "metadata": {},
      "cell_type": "markdown",
      "source": "### Fancy indexing"
    },
    {
      "metadata": {},
      "cell_type": "markdown",
      "source": "Fancy indexing is the name for when an array or list is used in-place of an index: "
    },
    {
      "metadata": {
        "trusted": true
      },
      "cell_type": "code",
      "source": "row_indices = [1, 2, 3]\nA[row_indices]",
      "execution_count": null,
      "outputs": []
    },
    {
      "metadata": {
        "trusted": true
      },
      "cell_type": "code",
      "source": "col_indices = [1, 2, -1] # remember, index -1 means the last element\nA[row_indices, col_indices]",
      "execution_count": null,
      "outputs": []
    },
    {
      "metadata": {},
      "cell_type": "markdown",
      "source": "We can also use index masks: If the index mask is an Numpy array of data type `bool`, then an element is selected (True) or not (False) depending on the value of the index mask at the position of each element: "
    },
    {
      "metadata": {
        "trusted": true
      },
      "cell_type": "code",
      "source": "B = array([n for n in range(5)])\nB",
      "execution_count": null,
      "outputs": []
    },
    {
      "metadata": {
        "trusted": true
      },
      "cell_type": "code",
      "source": "row_mask = array([True, False, True, False, False])\nB[row_mask]",
      "execution_count": null,
      "outputs": []
    },
    {
      "metadata": {
        "trusted": true
      },
      "cell_type": "code",
      "source": "# same thing\nrow_mask = array([1,0,1,0,0], dtype=bool)\nB[row_mask]",
      "execution_count": null,
      "outputs": []
    },
    {
      "metadata": {},
      "cell_type": "markdown",
      "source": "This feature is very useful to conditionally select elements from an array, using for example comparison operators:"
    },
    {
      "metadata": {
        "trusted": true
      },
      "cell_type": "code",
      "source": "x = arange(0, 10, 0.5)\nx",
      "execution_count": null,
      "outputs": []
    },
    {
      "metadata": {
        "trusted": true
      },
      "cell_type": "code",
      "source": "mask = (5 < x) * (x < 7.5)\n\nmask",
      "execution_count": null,
      "outputs": []
    },
    {
      "metadata": {
        "trusted": true
      },
      "cell_type": "code",
      "source": "x[mask]",
      "execution_count": null,
      "outputs": []
    },
    {
      "metadata": {},
      "cell_type": "markdown",
      "source": "## Functions for extracting data from arrays and creating arrays"
    },
    {
      "metadata": {},
      "cell_type": "markdown",
      "source": "### where"
    },
    {
      "metadata": {},
      "cell_type": "markdown",
      "source": "The index mask can be converted to position index using the `where` function"
    },
    {
      "metadata": {
        "trusted": true
      },
      "cell_type": "code",
      "source": "indices = where(mask)\n\nindices",
      "execution_count": null,
      "outputs": []
    },
    {
      "metadata": {
        "trusted": true
      },
      "cell_type": "code",
      "source": "x[indices] # this indexing is equivalent to the fancy indexing x[mask]",
      "execution_count": null,
      "outputs": []
    },
    {
      "metadata": {},
      "cell_type": "markdown",
      "source": "### diag"
    },
    {
      "metadata": {},
      "cell_type": "markdown",
      "source": "With the diag function we can also extract the diagonal and subdiagonals of an array:"
    },
    {
      "metadata": {
        "trusted": true
      },
      "cell_type": "code",
      "source": "diag(A)",
      "execution_count": null,
      "outputs": []
    },
    {
      "metadata": {
        "trusted": true
      },
      "cell_type": "code",
      "source": "diag(A, -1)",
      "execution_count": null,
      "outputs": []
    },
    {
      "metadata": {},
      "cell_type": "markdown",
      "source": "### take"
    },
    {
      "metadata": {},
      "cell_type": "markdown",
      "source": "The `take` function is similar to fancy indexing described above:"
    },
    {
      "metadata": {
        "trusted": true
      },
      "cell_type": "code",
      "source": "v2 = arange(-3,3)\nv2",
      "execution_count": null,
      "outputs": []
    },
    {
      "metadata": {
        "trusted": true
      },
      "cell_type": "code",
      "source": "row_indices = [1, 3, 5]\nv2[row_indices] # fancy indexing",
      "execution_count": null,
      "outputs": []
    },
    {
      "metadata": {
        "trusted": true
      },
      "cell_type": "code",
      "source": "v2.take(row_indices)",
      "execution_count": null,
      "outputs": []
    },
    {
      "metadata": {},
      "cell_type": "markdown",
      "source": "But `take` also works on lists and other objects:"
    },
    {
      "metadata": {
        "trusted": true
      },
      "cell_type": "code",
      "source": "take([-3, -2, -1,  0,  1,  2], row_indices)",
      "execution_count": null,
      "outputs": []
    },
    {
      "metadata": {},
      "cell_type": "markdown",
      "source": "### choose"
    },
    {
      "metadata": {},
      "cell_type": "markdown",
      "source": "Constructs an array by picking elements from several arrays:"
    },
    {
      "metadata": {
        "trusted": true
      },
      "cell_type": "code",
      "source": "which = [1, 0, 1, 0]\nchoices = [[-2,-2,-2,-2], [5,5,5,5]]\n\nchoose(which, choices)",
      "execution_count": null,
      "outputs": []
    },
    {
      "metadata": {},
      "cell_type": "markdown",
      "source": "## Linear algebra"
    },
    {
      "metadata": {},
      "cell_type": "markdown",
      "source": "Vectorizing code is the key to writing efficient numerical calculation with Python/Numpy. That means that as much as possible of a program should be formulated in terms of matrix and vector operations, like matrix-matrix multiplication."
    },
    {
      "metadata": {},
      "cell_type": "markdown",
      "source": "### Scalar-array operations"
    },
    {
      "metadata": {},
      "cell_type": "markdown",
      "source": "We can use the usual arithmetic operators to multiply, add, subtract, and divide arrays with scalar numbers."
    },
    {
      "metadata": {
        "trusted": true
      },
      "cell_type": "code",
      "source": "v1 = arange(0, 5)",
      "execution_count": null,
      "outputs": []
    },
    {
      "metadata": {
        "trusted": true
      },
      "cell_type": "code",
      "source": "v1 * 2",
      "execution_count": null,
      "outputs": []
    },
    {
      "metadata": {
        "trusted": true
      },
      "cell_type": "code",
      "source": "v1 + 2",
      "execution_count": null,
      "outputs": []
    },
    {
      "metadata": {
        "trusted": true
      },
      "cell_type": "code",
      "source": "A * 2, A + 2",
      "execution_count": null,
      "outputs": []
    },
    {
      "metadata": {},
      "cell_type": "markdown",
      "source": "### Element-wise array-array operations"
    },
    {
      "metadata": {},
      "cell_type": "markdown",
      "source": "When we add, subtract, multiply and divide arrays with each other, the default behaviour is **element-wise** operations:"
    },
    {
      "metadata": {
        "trusted": true
      },
      "cell_type": "code",
      "source": "A * A # element-wise multiplication",
      "execution_count": null,
      "outputs": []
    },
    {
      "metadata": {
        "trusted": true
      },
      "cell_type": "code",
      "source": "v1 * v1",
      "execution_count": null,
      "outputs": []
    },
    {
      "metadata": {},
      "cell_type": "markdown",
      "source": "If we multiply arrays with compatible shapes, we get an element-wise multiplication of each row:"
    },
    {
      "metadata": {
        "trusted": true
      },
      "cell_type": "code",
      "source": "A.shape, v1.shape",
      "execution_count": null,
      "outputs": []
    },
    {
      "metadata": {
        "trusted": true
      },
      "cell_type": "code",
      "source": "A * v1",
      "execution_count": null,
      "outputs": []
    },
    {
      "metadata": {},
      "cell_type": "markdown",
      "source": "### Matrix algebra"
    },
    {
      "metadata": {},
      "cell_type": "markdown",
      "source": "What about matrix mutiplication? There are two ways. We can either use the `dot` function, which applies a matrix-matrix, matrix-vector, or inner vector multiplication to its two arguments: "
    },
    {
      "metadata": {
        "trusted": true
      },
      "cell_type": "code",
      "source": "dot(A, A)",
      "execution_count": null,
      "outputs": []
    },
    {
      "metadata": {
        "trusted": true
      },
      "cell_type": "code",
      "source": "dot(A, v1)",
      "execution_count": null,
      "outputs": []
    },
    {
      "metadata": {
        "trusted": true
      },
      "cell_type": "code",
      "source": "dot(v1, v1)",
      "execution_count": null,
      "outputs": []
    },
    {
      "metadata": {},
      "cell_type": "markdown",
      "source": "Alternatively, we can cast the array objects to the type `matrix`. This changes the behavior of the standard arithmetic operators `+, -, *` to use matrix algebra."
    },
    {
      "metadata": {
        "trusted": true
      },
      "cell_type": "code",
      "source": "M = matrix(A)\nv = matrix(v1).T # make it a column vector",
      "execution_count": null,
      "outputs": []
    },
    {
      "metadata": {
        "trusted": true
      },
      "cell_type": "code",
      "source": "v",
      "execution_count": null,
      "outputs": []
    },
    {
      "metadata": {
        "trusted": true
      },
      "cell_type": "code",
      "source": "M * M",
      "execution_count": null,
      "outputs": []
    },
    {
      "metadata": {
        "trusted": true
      },
      "cell_type": "code",
      "source": "M * v",
      "execution_count": null,
      "outputs": []
    },
    {
      "metadata": {
        "trusted": true
      },
      "cell_type": "code",
      "source": "# inner product\nv.T * v",
      "execution_count": null,
      "outputs": []
    },
    {
      "metadata": {
        "trusted": true
      },
      "cell_type": "code",
      "source": "# with matrix objects, standard matrix algebra applies\nv + M*v",
      "execution_count": null,
      "outputs": []
    },
    {
      "metadata": {},
      "cell_type": "markdown",
      "source": "If we try to add, subtract or multiply objects with incomplatible shapes we get an error:"
    },
    {
      "metadata": {
        "trusted": true
      },
      "cell_type": "code",
      "source": "v = matrix([1,2,3,4,5,6]).T",
      "execution_count": null,
      "outputs": []
    },
    {
      "metadata": {
        "trusted": true
      },
      "cell_type": "code",
      "source": "shape(M), shape(v)",
      "execution_count": null,
      "outputs": []
    },
    {
      "metadata": {
        "trusted": true
      },
      "cell_type": "code",
      "source": "M * v",
      "execution_count": null,
      "outputs": []
    },
    {
      "metadata": {},
      "cell_type": "markdown",
      "source": "See also the related functions: `inner`, `outer`, `cross`, `kron`, `tensordot`. Try for example `help(kron)`."
    },
    {
      "metadata": {},
      "cell_type": "markdown",
      "source": "### Array/Matrix transformations"
    },
    {
      "metadata": {},
      "cell_type": "markdown",
      "source": "Above we have used the `.T` to transpose the matrix object `v`. We could also have used the `transpose` function to accomplish the same thing. \n\nOther mathematical functions that transform matrix objects are:"
    },
    {
      "metadata": {
        "trusted": true
      },
      "cell_type": "code",
      "source": "C = matrix([[1j, 2j], [3j, 4j]])\nC",
      "execution_count": null,
      "outputs": []
    },
    {
      "metadata": {
        "trusted": true
      },
      "cell_type": "code",
      "source": "conjugate(C)",
      "execution_count": null,
      "outputs": []
    },
    {
      "metadata": {},
      "cell_type": "markdown",
      "source": "Hermitian conjugate: transpose + conjugate"
    },
    {
      "metadata": {
        "trusted": true
      },
      "cell_type": "code",
      "source": "C.H",
      "execution_count": null,
      "outputs": []
    },
    {
      "metadata": {},
      "cell_type": "markdown",
      "source": "We can extract the real and imaginary parts of complex-valued arrays using `real` and `imag`:"
    },
    {
      "metadata": {
        "trusted": true
      },
      "cell_type": "code",
      "source": "real(C) # same as: C.real",
      "execution_count": null,
      "outputs": []
    },
    {
      "metadata": {
        "trusted": true
      },
      "cell_type": "code",
      "source": "imag(C) # same as: C.imag",
      "execution_count": null,
      "outputs": []
    },
    {
      "metadata": {},
      "cell_type": "markdown",
      "source": "Or the complex argument and absolute value"
    },
    {
      "metadata": {
        "trusted": true
      },
      "cell_type": "code",
      "source": "angle(C+1) # heads up MATLAB Users, angle is used instead of arg",
      "execution_count": null,
      "outputs": []
    },
    {
      "metadata": {
        "trusted": true
      },
      "cell_type": "code",
      "source": "abs(C)",
      "execution_count": null,
      "outputs": []
    },
    {
      "metadata": {},
      "cell_type": "markdown",
      "source": "### Matrix computations"
    },
    {
      "metadata": {},
      "cell_type": "markdown",
      "source": "#### Inverse"
    },
    {
      "metadata": {
        "trusted": true
      },
      "cell_type": "code",
      "source": "linalg.inv(C) # equivalent to C.I ",
      "execution_count": null,
      "outputs": []
    },
    {
      "metadata": {
        "trusted": true
      },
      "cell_type": "code",
      "source": "C.I * C",
      "execution_count": null,
      "outputs": []
    },
    {
      "metadata": {},
      "cell_type": "markdown",
      "source": "#### Determinant"
    },
    {
      "metadata": {
        "trusted": true
      },
      "cell_type": "code",
      "source": "linalg.det(C)",
      "execution_count": null,
      "outputs": []
    },
    {
      "metadata": {
        "trusted": true
      },
      "cell_type": "code",
      "source": "linalg.det(C.I)",
      "execution_count": null,
      "outputs": []
    },
    {
      "metadata": {},
      "cell_type": "markdown",
      "source": "### Data processing"
    },
    {
      "metadata": {},
      "cell_type": "markdown",
      "source": "Often it is useful to store datasets in Numpy arrays. Numpy provides a number of functions to calculate statistics of datasets in arrays. \n\nFor example, let's calculate some properties from the Stockholm temperature dataset used above."
    },
    {
      "metadata": {
        "trusted": true
      },
      "cell_type": "code",
      "source": "# reminder, the tempeature dataset is stored in the data variable:\nshape(data)",
      "execution_count": null,
      "outputs": []
    },
    {
      "metadata": {},
      "cell_type": "markdown",
      "source": "#### mean"
    },
    {
      "metadata": {
        "trusted": true
      },
      "cell_type": "code",
      "source": "# the temperature data is in column 3\nmean(data[:,3])",
      "execution_count": null,
      "outputs": []
    },
    {
      "metadata": {},
      "cell_type": "markdown",
      "source": "The daily mean temperature in Stockholm over the last 200 years has been about 6.2 C."
    },
    {
      "metadata": {},
      "cell_type": "markdown",
      "source": "#### standard deviations and variance"
    },
    {
      "metadata": {
        "trusted": true
      },
      "cell_type": "code",
      "source": "std(data[:,3]), var(data[:,3])",
      "execution_count": null,
      "outputs": []
    },
    {
      "metadata": {},
      "cell_type": "markdown",
      "source": "#### min and max"
    },
    {
      "metadata": {
        "trusted": true
      },
      "cell_type": "code",
      "source": "# lowest daily average temperature\ndata[:,3].min()",
      "execution_count": null,
      "outputs": []
    },
    {
      "metadata": {
        "trusted": true
      },
      "cell_type": "code",
      "source": "# highest daily average temperature\ndata[:,3].max()",
      "execution_count": null,
      "outputs": []
    },
    {
      "metadata": {},
      "cell_type": "markdown",
      "source": "#### sum, prod, and trace"
    },
    {
      "metadata": {
        "trusted": true
      },
      "cell_type": "code",
      "source": "d = arange(0, 10)\nd",
      "execution_count": null,
      "outputs": []
    },
    {
      "metadata": {
        "trusted": true
      },
      "cell_type": "code",
      "source": "# sum up all elements\nsum(d)",
      "execution_count": null,
      "outputs": []
    },
    {
      "metadata": {
        "trusted": true
      },
      "cell_type": "code",
      "source": "# product of all elements\nprod(d+1)",
      "execution_count": null,
      "outputs": []
    },
    {
      "metadata": {
        "trusted": true
      },
      "cell_type": "code",
      "source": "# cummulative sum\ncumsum(d)",
      "execution_count": null,
      "outputs": []
    },
    {
      "metadata": {
        "trusted": true
      },
      "cell_type": "code",
      "source": "# cummulative product\ncumprod(d+1)",
      "execution_count": null,
      "outputs": []
    },
    {
      "metadata": {
        "trusted": true
      },
      "cell_type": "code",
      "source": "# same as: diag(A).sum()\ntrace(A)",
      "execution_count": null,
      "outputs": []
    },
    {
      "metadata": {},
      "cell_type": "markdown",
      "source": "### Computations on subsets of arrays"
    },
    {
      "metadata": {},
      "cell_type": "markdown",
      "source": "We can compute with subsets of the data in an array using indexing, fancy indexing, and the other methods of extracting data from an array (described above).\n\nFor example, let's go back to the temperature dataset:"
    },
    {
      "metadata": {
        "trusted": true
      },
      "cell_type": "code",
      "source": "!head -n 3 stockholm_td_adj.dat",
      "execution_count": null,
      "outputs": []
    },
    {
      "metadata": {},
      "cell_type": "markdown",
      "source": "The dataformat is: year, month, day, daily average temperature, low, high, location.\n\nIf we are interested in the average temperature only in a particular month, say February, then we can create a index mask and use it to select only the data for that month using:"
    },
    {
      "metadata": {
        "trusted": true
      },
      "cell_type": "code",
      "source": "unique(data[:,1]) # the month column takes values from 1 to 12",
      "execution_count": null,
      "outputs": []
    },
    {
      "metadata": {
        "trusted": true
      },
      "cell_type": "code",
      "source": "mask_feb = data[:,1] == 2",
      "execution_count": null,
      "outputs": []
    },
    {
      "metadata": {
        "trusted": true
      },
      "cell_type": "code",
      "source": "# the temperature data is in column 3\nmean(data[mask_feb,3])",
      "execution_count": null,
      "outputs": []
    },
    {
      "metadata": {},
      "cell_type": "markdown",
      "source": "With these tools we have very powerful data processing capabilities at our disposal. For example, to extract the average monthly average temperatures for each month of the year only takes a few lines of code: "
    },
    {
      "metadata": {
        "trusted": true
      },
      "cell_type": "code",
      "source": "months = arange(1,13)\nmonthly_mean = [mean(data[data[:,1] == month, 3]) for month in months]\n\nfig, ax = plt.subplots()\nax.bar(months, monthly_mean)\nax.set_xlabel(\"Month\")\nax.set_ylabel(\"Monthly avg. temp.\");",
      "execution_count": null,
      "outputs": []
    },
    {
      "metadata": {},
      "cell_type": "markdown",
      "source": "### Calculations with higher-dimensional data"
    },
    {
      "metadata": {},
      "cell_type": "markdown",
      "source": "When functions such as `min`, `max`, etc. are applied to a multidimensional arrays, it is sometimes useful to apply the calculation to the entire array, and sometimes only on a row or column basis. Using the `axis` argument we can specify how these functions should behave: "
    },
    {
      "metadata": {
        "trusted": true
      },
      "cell_type": "code",
      "source": "m = random.rand(3,3)\nm",
      "execution_count": null,
      "outputs": []
    },
    {
      "metadata": {
        "trusted": true
      },
      "cell_type": "code",
      "source": "# global max\nm.max()",
      "execution_count": null,
      "outputs": []
    },
    {
      "metadata": {
        "trusted": true
      },
      "cell_type": "code",
      "source": "# max in each column\nm.max(axis=0)",
      "execution_count": null,
      "outputs": []
    },
    {
      "metadata": {
        "trusted": true
      },
      "cell_type": "code",
      "source": "# max in each row\nm.max(axis=1)",
      "execution_count": null,
      "outputs": []
    },
    {
      "metadata": {},
      "cell_type": "markdown",
      "source": "Many other functions and methods in the `array` and `matrix` classes accept the same (optional) `axis` keyword argument."
    },
    {
      "metadata": {},
      "cell_type": "markdown",
      "source": "## Reshaping, resizing and stacking arrays"
    },
    {
      "metadata": {},
      "cell_type": "markdown",
      "source": "The shape of an Numpy array can be modified without copying the underlaying data, which makes it a fast operation even for large arrays."
    },
    {
      "metadata": {
        "trusted": true
      },
      "cell_type": "code",
      "source": "A",
      "execution_count": null,
      "outputs": []
    },
    {
      "metadata": {
        "trusted": true
      },
      "cell_type": "code",
      "source": "n, m = A.shape",
      "execution_count": null,
      "outputs": []
    },
    {
      "metadata": {
        "trusted": true
      },
      "cell_type": "code",
      "source": "B = A.reshape((1,n*m))\nB",
      "execution_count": null,
      "outputs": []
    },
    {
      "metadata": {
        "trusted": true
      },
      "cell_type": "code",
      "source": "B[0,0:5] = 5 # modify the array\n\nB",
      "execution_count": null,
      "outputs": []
    },
    {
      "metadata": {
        "trusted": true
      },
      "cell_type": "code",
      "source": "A # and the original variable is also changed. B is only a different view of the same data",
      "execution_count": null,
      "outputs": []
    },
    {
      "metadata": {},
      "cell_type": "markdown",
      "source": "We can also use the function `flatten` to make a higher-dimensional array into a vector. But this function create a copy of the data."
    },
    {
      "metadata": {
        "trusted": true
      },
      "cell_type": "code",
      "source": "B = A.flatten()\n\nB",
      "execution_count": null,
      "outputs": []
    },
    {
      "metadata": {
        "trusted": true
      },
      "cell_type": "code",
      "source": "B[0:5] = 10\n\nB",
      "execution_count": null,
      "outputs": []
    },
    {
      "metadata": {
        "trusted": true
      },
      "cell_type": "code",
      "source": "A # now A has not changed, because B's data is a copy of A's, not refering to the same data",
      "execution_count": null,
      "outputs": []
    },
    {
      "metadata": {},
      "cell_type": "markdown",
      "source": "## Adding a new dimension: newaxis"
    },
    {
      "metadata": {},
      "cell_type": "markdown",
      "source": "With `newaxis`, we can insert new dimensions in an array, for example converting a vector to a column or row matrix:"
    },
    {
      "metadata": {
        "trusted": true
      },
      "cell_type": "code",
      "source": "v = array([1,2,3])",
      "execution_count": null,
      "outputs": []
    },
    {
      "metadata": {
        "trusted": true
      },
      "cell_type": "code",
      "source": "shape(v)",
      "execution_count": null,
      "outputs": []
    },
    {
      "metadata": {
        "trusted": true
      },
      "cell_type": "code",
      "source": "# make a column matrix of the vector v\nv[:, newaxis]",
      "execution_count": null,
      "outputs": []
    },
    {
      "metadata": {
        "trusted": true
      },
      "cell_type": "code",
      "source": "# column matrix\nv[:,newaxis].shape",
      "execution_count": null,
      "outputs": []
    },
    {
      "metadata": {
        "trusted": true
      },
      "cell_type": "code",
      "source": "# row matrix\nv[newaxis,:].shape",
      "execution_count": null,
      "outputs": []
    },
    {
      "metadata": {},
      "cell_type": "markdown",
      "source": "## Stacking and repeating arrays"
    },
    {
      "metadata": {},
      "cell_type": "markdown",
      "source": "Using function `repeat`, `tile`, `vstack`, `hstack`, and `concatenate` we can create larger vectors and matrices from smaller ones:"
    },
    {
      "metadata": {},
      "cell_type": "markdown",
      "source": "### tile and repeat"
    },
    {
      "metadata": {
        "trusted": true
      },
      "cell_type": "code",
      "source": "a = array([[1, 2], [3, 4]])",
      "execution_count": null,
      "outputs": []
    },
    {
      "metadata": {
        "trusted": true
      },
      "cell_type": "code",
      "source": "# repeat each element 3 times\nrepeat(a, 3)",
      "execution_count": null,
      "outputs": []
    },
    {
      "metadata": {
        "trusted": true
      },
      "cell_type": "code",
      "source": "# tile the matrix 3 times \ntile(a, 3)",
      "execution_count": null,
      "outputs": []
    },
    {
      "metadata": {},
      "cell_type": "markdown",
      "source": "### concatenate"
    },
    {
      "metadata": {
        "trusted": true
      },
      "cell_type": "code",
      "source": "b = array([[5, 6]])",
      "execution_count": null,
      "outputs": []
    },
    {
      "metadata": {
        "trusted": true
      },
      "cell_type": "code",
      "source": "concatenate((a, b), axis=0)",
      "execution_count": null,
      "outputs": []
    },
    {
      "metadata": {
        "trusted": true
      },
      "cell_type": "code",
      "source": "concatenate((a, b.T), axis=1)",
      "execution_count": null,
      "outputs": []
    },
    {
      "metadata": {},
      "cell_type": "markdown",
      "source": "### hstack and vstack"
    },
    {
      "metadata": {
        "trusted": true
      },
      "cell_type": "code",
      "source": "vstack((a,b))",
      "execution_count": null,
      "outputs": []
    },
    {
      "metadata": {
        "trusted": true
      },
      "cell_type": "code",
      "source": "hstack((a,b.T))",
      "execution_count": null,
      "outputs": []
    },
    {
      "metadata": {},
      "cell_type": "markdown",
      "source": "## Copy and \"deep copy\""
    },
    {
      "metadata": {},
      "cell_type": "markdown",
      "source": "To achieve high performance, assignments in Python usually do not copy the underlaying objects. This is important for example when objects are passed between functions, to avoid an excessive amount of memory copying when it is not necessary (technical term: pass by reference). "
    },
    {
      "metadata": {
        "trusted": true
      },
      "cell_type": "code",
      "source": "A = array([[1, 2], [3, 4]])\n\nA",
      "execution_count": null,
      "outputs": []
    },
    {
      "metadata": {
        "trusted": true
      },
      "cell_type": "code",
      "source": "# now B is referring to the same array data as A \nB = A ",
      "execution_count": null,
      "outputs": []
    },
    {
      "metadata": {
        "trusted": true
      },
      "cell_type": "code",
      "source": "# changing B affects A\nB[0,0] = 10\n\nB",
      "execution_count": null,
      "outputs": []
    },
    {
      "metadata": {
        "trusted": true
      },
      "cell_type": "code",
      "source": "A",
      "execution_count": null,
      "outputs": []
    },
    {
      "metadata": {},
      "cell_type": "markdown",
      "source": "If we want to avoid this behavior, so that when we get a new completely independent object `B` copied from `A`, then we need to do a so-called \"deep copy\" using the function `copy`:"
    },
    {
      "metadata": {
        "trusted": true
      },
      "cell_type": "code",
      "source": "B = copy(A)",
      "execution_count": null,
      "outputs": []
    },
    {
      "metadata": {
        "trusted": true
      },
      "cell_type": "code",
      "source": "# now, if we modify B, A is not affected\nB[0,0] = -5\n\nB",
      "execution_count": null,
      "outputs": []
    },
    {
      "metadata": {
        "trusted": true
      },
      "cell_type": "code",
      "source": "A",
      "execution_count": null,
      "outputs": []
    },
    {
      "metadata": {},
      "cell_type": "markdown",
      "source": "## Iterating over array elements"
    },
    {
      "metadata": {},
      "cell_type": "markdown",
      "source": "Generally, we want to avoid iterating over the elements of arrays whenever we can (at all costs). The reason is that in a interpreted language like Python (or MATLAB), iterations are really slow compared to vectorized operations. \n\nHowever, sometimes iterations are unavoidable. For such cases, the Python `for` loop is the most convenient way to iterate over an array:"
    },
    {
      "metadata": {
        "trusted": true
      },
      "cell_type": "code",
      "source": "v = array([1,2,3,4])\n\nfor element in v:\n    print(element)",
      "execution_count": null,
      "outputs": []
    },
    {
      "metadata": {
        "trusted": true
      },
      "cell_type": "code",
      "source": "M = array([[1,2], [3,4]])\n\nfor row in M:\n    print(\"row\", row)\n    \n    for element in row:\n        print(element)",
      "execution_count": null,
      "outputs": []
    },
    {
      "metadata": {},
      "cell_type": "markdown",
      "source": "When we need to iterate over each element of an array and modify its elements, it is convenient to use the `enumerate` function to obtain both the element and its index in the `for` loop: "
    },
    {
      "metadata": {
        "trusted": true
      },
      "cell_type": "code",
      "source": "for row_idx, row in enumerate(M):\n    print(\"row_idx\", row_idx, \"row\", row)\n    \n    for col_idx, element in enumerate(row):\n        print(\"col_idx\", col_idx, \"element\", element)\n       \n        # update the matrix M: square each element\n        M[row_idx, col_idx] = element ** 2",
      "execution_count": null,
      "outputs": []
    },
    {
      "metadata": {
        "trusted": true
      },
      "cell_type": "code",
      "source": "# each element in M is now squared\nM",
      "execution_count": null,
      "outputs": []
    },
    {
      "metadata": {},
      "cell_type": "markdown",
      "source": "## Vectorizing functions"
    },
    {
      "metadata": {},
      "cell_type": "markdown",
      "source": "As mentioned several times by now, to get good performance we should try to avoid looping over elements in our vectors and matrices, and instead use vectorized algorithms. The first step in converting a scalar algorithm to a vectorized algorithm is to make sure that the functions we write work with vector inputs."
    },
    {
      "metadata": {
        "trusted": true
      },
      "cell_type": "code",
      "source": "def Theta(x):\n    \"\"\"\n    Scalar implemenation of the Heaviside step function.\n    \"\"\"\n    if x >= 0:\n        return 1\n    else:\n        return 0",
      "execution_count": null,
      "outputs": []
    },
    {
      "metadata": {
        "trusted": true
      },
      "cell_type": "code",
      "source": "Theta(array([-3,-2,-1,0,1,2,3]))",
      "execution_count": null,
      "outputs": []
    },
    {
      "metadata": {},
      "cell_type": "markdown",
      "source": "OK, that didn't work because we didn't write the `Theta` function so that it can handle a vector input... \n\nTo get a vectorized version of Theta we can use the Numpy function `vectorize`. In many cases it can automatically vectorize a function:"
    },
    {
      "metadata": {
        "trusted": true
      },
      "cell_type": "code",
      "source": "Theta_vec = vectorize(Theta)",
      "execution_count": null,
      "outputs": []
    },
    {
      "metadata": {
        "trusted": true
      },
      "cell_type": "code",
      "source": "Theta_vec(array([-3,-2,-1,0,1,2,3]))",
      "execution_count": null,
      "outputs": []
    },
    {
      "metadata": {},
      "cell_type": "markdown",
      "source": "We can also implement the function to accept a vector input from the beginning (requires more effort but might give better performance):"
    },
    {
      "metadata": {
        "trusted": true
      },
      "cell_type": "code",
      "source": "def Theta(x):\n    \"\"\"\n    Vector-aware implemenation of the Heaviside step function.\n    \"\"\"\n    return 1 * (x >= 0)",
      "execution_count": null,
      "outputs": []
    },
    {
      "metadata": {
        "trusted": true
      },
      "cell_type": "code",
      "source": "Theta(array([-3,-2,-1,0,1,2,3]))",
      "execution_count": null,
      "outputs": []
    },
    {
      "metadata": {
        "trusted": true
      },
      "cell_type": "code",
      "source": "# still works for scalars as well\nTheta(-1.2), Theta(2.6)",
      "execution_count": null,
      "outputs": []
    },
    {
      "metadata": {},
      "cell_type": "markdown",
      "source": "## Using arrays in conditions"
    },
    {
      "metadata": {},
      "cell_type": "markdown",
      "source": "When using arrays in conditions,for example `if` statements and other boolean expressions, one needs to use `any` or `all`, which requires that any or all elements in the array evalutes to `True`:"
    },
    {
      "metadata": {
        "trusted": true
      },
      "cell_type": "code",
      "source": "M",
      "execution_count": null,
      "outputs": []
    },
    {
      "metadata": {
        "trusted": true
      },
      "cell_type": "code",
      "source": "if (M > 5).any():\n    print(\"at least one element in M is larger than 5\")\nelse:\n    print(\"no element in M is larger than 5\")",
      "execution_count": null,
      "outputs": []
    },
    {
      "metadata": {
        "trusted": true
      },
      "cell_type": "code",
      "source": "if (M > 5).all():\n    print(\"all elements in M are larger than 5\")\nelse:\n    print(\"all elements in M are not larger than 5\")",
      "execution_count": null,
      "outputs": []
    },
    {
      "metadata": {},
      "cell_type": "markdown",
      "source": "## Type casting"
    },
    {
      "metadata": {},
      "cell_type": "markdown",
      "source": "Since Numpy arrays are *statically typed*, the type of an array does not change once created. But we can explicitly cast an array of some type to another using the `astype` functions (see also the similar `asarray` function). This always create a new array of new type:"
    },
    {
      "metadata": {
        "trusted": true
      },
      "cell_type": "code",
      "source": "M.dtype",
      "execution_count": null,
      "outputs": []
    },
    {
      "metadata": {
        "trusted": true
      },
      "cell_type": "code",
      "source": "M2 = M.astype(float)\n\nM2",
      "execution_count": null,
      "outputs": []
    },
    {
      "metadata": {
        "trusted": true
      },
      "cell_type": "code",
      "source": "M2.dtype",
      "execution_count": null,
      "outputs": []
    },
    {
      "metadata": {
        "trusted": true
      },
      "cell_type": "code",
      "source": "M3 = M.astype(bool)\n\nM3",
      "execution_count": 20,
      "outputs": [
        {
          "data": {
            "text/plain": "array([[ True,  True],\n       [ True,  True]])"
          },
          "execution_count": 20,
          "metadata": {},
          "output_type": "execute_result"
        }
      ]
    },
    {
      "metadata": {},
      "cell_type": "markdown",
      "source": "## Further reading"
    },
    {
      "metadata": {},
      "cell_type": "markdown",
      "source": "* http://numpy.scipy.org\n* http://scipy.org/Tentative_NumPy_Tutorial\n* http://scipy.org/NumPy_for_Matlab_Users - A Numpy guide for MATLAB users."
    },
    {
      "metadata": {},
      "cell_type": "markdown",
      "source": "## Versions"
    },
    {
      "metadata": {
        "trusted": true
      },
      "cell_type": "code",
      "source": "%reload_ext version_information\n\n%version_information numpy",
      "execution_count": null,
      "outputs": []
    }
  ],
  "metadata": {
    "kernelspec": {
      "name": "python2",
      "display_name": "Python 2",
      "language": "python"
    },
    "language_info": {
      "mimetype": "text/x-python",
      "nbconvert_exporter": "python",
      "name": "python",
      "pygments_lexer": "ipython2",
      "version": "2.7.15",
      "file_extension": ".py",
      "codemirror_mode": {
        "version": 2,
        "name": "ipython"
      }
    }
  },
  "nbformat": 4,
  "nbformat_minor": 1
}