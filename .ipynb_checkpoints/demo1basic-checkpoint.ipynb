{
  "cells": [
    {
      "metadata": {},
      "cell_type": "markdown",
      "source": "## Folder -ME2002WeekX\n###   use '%ls \" to display the file names in current folder\n###  use  '%run APythonExam.py'   to exectute that .py code\n"
    },
    {
      "metadata": {
        "trusted": true
      },
      "cell_type": "code",
      "source": "## https://notebooks.azure.com/azms-6492/projects/AAPUB1 ",
      "execution_count": null,
      "outputs": []
    },
    {
      "metadata": {
        "trusted": true
      },
      "cell_type": "code",
      "source": "%ls ",
      "execution_count": 3,
      "outputs": [
        {
          "output_type": "stream",
          "text": "BubbleSort.py   L24Ex1.py  L24Ex3.py    TowersOfHanoi.py\r\nEightQueens.py  L24Ex2.py  mainFunc.py  Untitled.ipynb\r\n",
          "name": "stdout"
        }
      ]
    },
    {
      "metadata": {
        "trusted": true
      },
      "cell_type": "code",
      "source": "%run L24Ex1.py",
      "execution_count": 5,
      "outputs": [
        {
          "output_type": "stream",
          "name": "stdout",
          "text": "Please enter a number: 12\nYou entered 12 which is even\n"
        }
      ]
    },
    {
      "metadata": {
        "trusted": true
      },
      "cell_type": "code",
      "source": "%cat L24Ex1.py",
      "execution_count": 6,
      "outputs": [
        {
          "output_type": "stream",
          "text": "number = int(input(\"Please enter a number: \"))\r\r\n\r\r\nif number % 2 == 0:\r\r\n    print(\"You entered\", number, \"which is even\")\r\r\nelse:\r\r\n    print(\"You entered\", number, \"which is odd\")\r\r\n\r\r\n",
          "name": "stdout"
        }
      ]
    },
    {
      "metadata": {
        "trusted": true
      },
      "cell_type": "code",
      "source": "%ls",
      "execution_count": 7,
      "outputs": [
        {
          "output_type": "stream",
          "text": "BubbleSort.py     EightQueens.py  L24Ex2.py  mainFunc.py\r\ndemo1basic.ipynb  L24Ex1.py       L24Ex3.py  TowersOfHanoi.py\r\n",
          "name": "stdout"
        }
      ]
    },
    {
      "metadata": {
        "trusted": true
      },
      "cell_type": "code",
      "source": "%ls -l",
      "execution_count": 8,
      "outputs": [
        {
          "output_type": "stream",
          "text": "total 0\r\n-rw-r--r-- 1 nbuser nbuser  662 Mar 14 17:40 BubbleSort.py\r\n-rw-r--r-- 1 nbuser nbuser 2214 Mar 14 17:45 demo1basic.ipynb\r\n-rw-r--r-- 1 nbuser nbuser 1844 Mar 14 17:40 EightQueens.py\r\n-rw-r--r-- 1 nbuser nbuser  181 Mar 14 17:40 L24Ex1.py\r\n-rw-r--r-- 1 nbuser nbuser  178 Mar 14 17:41 L24Ex2.py\r\n-rw-r--r-- 1 nbuser nbuser  245 Mar 14 17:41 L24Ex3.py\r\n-rw-r--r-- 1 nbuser nbuser  972 Mar 14 17:40 mainFunc.py\r\n-rw-r--r-- 1 nbuser nbuser  642 Mar 14 17:40 TowersOfHanoi.py\r\n",
          "name": "stdout"
        }
      ]
    },
    {
      "metadata": {
        "trusted": true
      },
      "cell_type": "code",
      "source": "%run BubbleSort.py",
      "execution_count": 9,
      "outputs": [
        {
          "output_type": "stream",
          "text": "-212233561214",
          "name": "stdout"
        }
      ]
    },
    {
      "metadata": {
        "trusted": true
      },
      "cell_type": "code",
      "source": "%cat BubbleSort.py\n",
      "execution_count": 10,
      "outputs": [
        {
          "output_type": "stream",
          "text": "def bubbleSort(list):\r\r\n    needNextPass = True\r\r\n    \r\r\n    k = 1\r\r\n    while k < len(list) and needNextPass:\r\r\n        # List may be sorted and next pass not needed\r\r\n        needNextPass = False\r\r\n        for i in range(len(list) - k): \r\r\n            if list[i] > list[i + 1]:\r\r\n                # swap list[i] with list[i + 1]\r\r\n                temp = list[i]\r\r\n                list[i] = list[i + 1]\r\r\n                list[i + 1] = temp\r\r\n          \r\r\n                needNextPass = True # Next pass still needed\r\r\n\r\r\n# A test method \r\r\ndef main():\r\r\n    list = [2, 3, 2, 5, 6, 1, -2, 3, 14, 12]\r\r\n    bubbleSort(list)\r\r\n    for v in list:\r\r\n        print(v, end = \"\")\r\r\n\r\r\nmain()\r\r\n",
          "name": "stdout"
        }
      ]
    },
    {
      "metadata": {
        "trusted": true
      },
      "cell_type": "code",
      "source": "",
      "execution_count": null,
      "outputs": []
    }
  ],
  "metadata": {
    "kernelspec": {
      "name": "python3",
      "display_name": "Python 3",
      "language": "python"
    },
    "language_info": {
      "mimetype": "text/x-python",
      "nbconvert_exporter": "python",
      "name": "python",
      "pygments_lexer": "ipython3",
      "version": "3.5.4",
      "file_extension": ".py",
      "codemirror_mode": {
        "version": 3,
        "name": "ipython"
      }
    }
  },
  "nbformat": 4,
  "nbformat_minor": 1
}