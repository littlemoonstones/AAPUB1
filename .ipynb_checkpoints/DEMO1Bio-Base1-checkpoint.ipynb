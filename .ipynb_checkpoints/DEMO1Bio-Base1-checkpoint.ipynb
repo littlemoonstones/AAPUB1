{
  "cells": [
    {
      "metadata": {
        "collapsed": true
      },
      "cell_type": "markdown",
      "source": "##  Tutorial Ob: \n> URL  http://www.rpgroup.caltech.edu/ibdm_cbbtn/code/t0b_jupyter_notebooks.html  "
    },
    {
      "metadata": {
        "trusted": true
      },
      "cell_type": "code",
      "source": "### ME2002- Memo \n> date: 2019-Mar-21 ",
      "execution_count": null,
      "outputs": []
    },
    {
      "metadata": {},
      "cell_type": "markdown",
      "source": "### Tutorial 0b: Using Jupyter Notebooks and Jupyter Lab "
    },
    {
      "metadata": {
        "trusted": true
      },
      "cell_type": "code",
      "source": "### TASK1 1 -- testing numpy, matplotlib and seaborn \n### Filename: DEMO1Bio (-=base1).ipynb \n### Date: 2019-Mar-21 preview for Week06 ",
      "execution_count": null,
      "outputs": []
    },
    {
      "metadata": {
        "trusted": true
      },
      "cell_type": "code",
      "source": "import numpy as np\nimport matplotlib.pyplot as plt\nimport seaborn as sns\nsns.set()",
      "execution_count": null,
      "outputs": []
    },
    {
      "metadata": {
        "trusted": true
      },
      "cell_type": "code",
      "source": "### In order for plots to render within the notebook, you must tell Python to display these plots inline. \n\n# To do so, we can simply type the following.",
      "execution_count": null,
      "outputs": []
    },
    {
      "metadata": {
        "trusted": true
      },
      "cell_type": "code",
      "source": "%matplotlib inline",
      "execution_count": null,
      "outputs": []
    },
    {
      "metadata": {
        "trusted": true
      },
      "cell_type": "code",
      "source": "# Plot one of Griffin's favorite functions.\nx = np.linspace(-np.pi, np.pi, 500)\ny = np.sin(2 * np.sin(2 * np.sin(2 * x)))\n\n# Generate the plot.\nplt.plot(x, y)\nplt.xlabel(r'$x$', fontsize=16)\nplt.ylabel(r'$y$', fontsize=16)\n\n# Don't worry about this syntax for now.\n_ = plt.xticks([-np.pi, 0, np.pi], ['$-\\pi$', '0', '$\\pi$'], fontsize=15)\n",
      "execution_count": null,
      "outputs": []
    },
    {
      "metadata": {},
      "cell_type": "markdown",
      "source": "### Well Done --Task 1"
    },
    {
      "metadata": {
        "trusted": true
      },
      "cell_type": "code",
      "source": "#  Reflect -- Fill in  Your Response  Here ",
      "execution_count": null,
      "outputs": []
    }
  ],
  "metadata": {
    "kernelspec": {
      "name": "python36",
      "display_name": "Python 3.6",
      "language": "python"
    },
    "language_info": {
      "mimetype": "text/x-python",
      "nbconvert_exporter": "python",
      "name": "python",
      "pygments_lexer": "ipython3",
      "version": "3.6.6",
      "file_extension": ".py",
      "codemirror_mode": {
        "version": 3,
        "name": "ipython"
      }
    }
  },
  "nbformat": 4,
  "nbformat_minor": 2
}