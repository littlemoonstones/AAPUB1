{
  "cells": [
    {
      "metadata": {},
      "cell_type": "markdown",
      "source": "##  testLambda   Date:2019Q1 （2019_ME2002）Q1"
    },
    {
      "metadata": {
        "trusted": true
      },
      "cell_type": "code",
      "source": "print('Hello：：ME2002 ', 1+2*3)\n",
      "execution_count": 10,
      "outputs": [
        {
          "output_type": "stream",
          "text": "Hello：：ME2002  7\n",
          "name": "stdout"
        }
      ]
    },
    {
      "metadata": {
        "trusted": true
      },
      "cell_type": "code",
      "source": "import math\n",
      "execution_count": 11,
      "outputs": []
    },
    {
      "metadata": {
        "trusted": true
      },
      "cell_type": "code",
      "source": "cpt = (3,4, lambda p: math.floor(math.sqrt(p[0]**2 + p[1]**2)))\n",
      "execution_count": 12,
      "outputs": []
    },
    {
      "metadata": {
        "trusted": true
      },
      "cell_type": "code",
      "source": "print(cpt)",
      "execution_count": 13,
      "outputs": [
        {
          "output_type": "stream",
          "text": "(3, 4, <function <lambda> at 0x7f56b66bd8c8>)\n",
          "name": "stdout"
        }
      ]
    },
    {
      "metadata": {
        "trusted": true
      },
      "cell_type": "code",
      "source": "print (cpt[2](cpt))",
      "execution_count": 14,
      "outputs": [
        {
          "output_type": "stream",
          "text": "5\n",
          "name": "stdout"
        }
      ]
    },
    {
      "metadata": {
        "trusted": true
      },
      "cell_type": "code",
      "source": "%%writefile fib.py \n\ndef fib(N): \n    \"\"\" \n    Return a list of the first N Fibonacci numbers.\n    \"\"\" \n    f0, f1 = 0, 1\n    f = [1] * N\n    for n in range(1, N):\n        f[n] = f0 + f1\n        f0, f1 = f1, f[n]\n\n    return f\n# use magic command -- writefile  -- to edit new file and save it \n",
      "execution_count": 15,
      "outputs": [
        {
          "output_type": "stream",
          "text": "Overwriting fib.py\n",
          "name": "stdout"
        }
      ]
    },
    {
      "metadata": {
        "trusted": true
      },
      "cell_type": "code",
      "source": "print(fib(25))",
      "execution_count": 16,
      "outputs": [
        {
          "output_type": "stream",
          "text": "[1, 1, 2, 3, 5, 8, 13, 21, 34, 55, 89, 144, 233, 377, 610, 987, 1597, 2584, 4181, 6765, 10946, 17711, 28657, 46368, 75025]\n",
          "name": "stdout"
        }
      ]
    },
    {
      "metadata": {
        "trusted": true
      },
      "cell_type": "code",
      "source": "from fib import fib \naa = fib(10)",
      "execution_count": 17,
      "outputs": []
    },
    {
      "metadata": {
        "trusted": true
      },
      "cell_type": "code",
      "source": "aa",
      "execution_count": 18,
      "outputs": [
        {
          "output_type": "execute_result",
          "execution_count": 18,
          "data": {
            "text/plain": "[1, 1, 2, 3, 5, 8, 13, 21, 34, 55]"
          },
          "metadata": {}
        }
      ]
    },
    {
      "metadata": {
        "trusted": true
      },
      "cell_type": "code",
      "source": "print(fib(10))",
      "execution_count": 19,
      "outputs": [
        {
          "output_type": "stream",
          "text": "[1, 1, 2, 3, 5, 8, 13, 21, 34, 55]\n",
          "name": "stdout"
        }
      ]
    },
    {
      "metadata": {
        "trusted": true
      },
      "cell_type": "code",
      "source": "!python fib.py",
      "execution_count": 23,
      "outputs": []
    },
    {
      "metadata": {
        "trusted": true
      },
      "cell_type": "code",
      "source": "%ls ",
      "execution_count": 22,
      "outputs": [
        {
          "output_type": "stream",
          "text": "fib.py                                              \u001b[0m\u001b[01;34mME2002WeekX\u001b[0m/\r\nLecture-0-Scientific-Computing-with-Python.ipynb    \u001b[01;34m__pycache__\u001b[0m/\r\nLecture-1-Introduction-to-Python-Programming.ipynb  README.html\r\nLecture-2-Numpy.ipynb                               testLambdaExt1.ipynb\r\nLecture-2REV1-Numpy.ipynb\r\n",
          "name": "stdout"
        }
      ]
    },
    {
      "metadata": {
        "trusted": true
      },
      "cell_type": "code",
      "source": "%%bash\nls \npython fib.py > out1.txt",
      "execution_count": 26,
      "outputs": [
        {
          "output_type": "stream",
          "text": "fib.py\nLecture-0-Scientific-Computing-with-Python.ipynb\nLecture-1-Introduction-to-Python-Programming.ipynb\nLecture-2-Numpy.ipynb\nLecture-2REV1-Numpy.ipynb\nME2002WeekX\n__pycache__\nREADME.html\ntestLambdaExt1.ipynb\n",
          "name": "stdout"
        }
      ]
    },
    {
      "metadata": {
        "trusted": true
      },
      "cell_type": "code",
      "source": "# %load fib.py\n\ndef fib(N): \n    \"\"\" \n    Return a list of the first N Fibonacci numbers.\n    \"\"\" \n    f0, f1 = 0, 1\n    f = [1] * N\n    for n in range(1, N):\n        f[n] = f0 + f1\n        f0, f1 = f1, f[n]\n\n    return f\n# use magic command -- writefile  -- to edit new file and save it \n",
      "execution_count": null,
      "outputs": []
    },
    {
      "metadata": {},
      "cell_type": "markdown",
      "source": "## Well Done... 2019-Mar-15 "
    }
  ],
  "metadata": {
    "kernelspec": {
      "name": "python36",
      "display_name": "Python 3.6",
      "language": "python"
    },
    "language_info": {
      "mimetype": "text/x-python",
      "nbconvert_exporter": "python",
      "name": "python",
      "pygments_lexer": "ipython3",
      "version": "3.6.6",
      "file_extension": ".py",
      "codemirror_mode": {
        "version": 3,
        "name": "ipython"
      }
    }
  },
  "nbformat": 4,
  "nbformat_minor": 2
}